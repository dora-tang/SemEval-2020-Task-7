{
 "cells": [
  {
   "cell_type": "code",
   "execution_count": 1,
   "metadata": {},
   "outputs": [],
   "source": [
    "# -*- coding: utf-8 -*-\n",
    "\n",
    "import pandas as pd\n",
    "import numpy as np\n",
    "import sys\n",
    "import os\n",
    "import re"
   ]
  },
  {
   "cell_type": "markdown",
   "metadata": {},
   "source": [
    "# \"new\" \"original\""
   ]
  },
  {
   "cell_type": "code",
   "execution_count": 2,
   "metadata": {},
   "outputs": [],
   "source": [
    "import pandas as pd\n",
    "import numpy as np\n",
    "import sys\n",
    "import os\n",
    "import re"
   ]
  },
  {
   "cell_type": "code",
   "execution_count": 3,
   "metadata": {},
   "outputs": [],
   "source": [
    "def add_Column(data):\n",
    "    sentences = data['original']\n",
    "    s_lists = []\n",
    "    o_lists = []\n",
    "    for index in range(len(sentences)):\n",
    "        edit_word = data.loc[index, 'edit']\n",
    "        new_s = re.sub(r'<.*?\\/>', edit_word, sentences[index])\n",
    "        \n",
    "        old_word = re.match( r'.*?<(.*?)\\/>', sentences[index])\n",
    "        old_word = old_word.group(1)\n",
    "        new_o = re.sub(r'<.*?\\/>', old_word, sentences[index])\n",
    "        \n",
    "        s_lists.append(new_s)\n",
    "        o_lists.append(new_o)\n",
    "    data['new'] = s_lists\n",
    "    data['original2'] = o_lists\n",
    "    return data"
   ]
  },
  {
   "cell_type": "markdown",
   "metadata": {},
   "source": [
    "## Task-1"
   ]
  },
  {
   "cell_type": "code",
   "execution_count": 4,
   "metadata": {},
   "outputs": [
    {
     "name": "stdout",
     "output_type": "stream",
     "text": [
      "What we learned from enduring a week-long news cycle about <Alex Jones/> \n",
      "pudding\n",
      "What we learned from enduring a week-long news cycle about pudding \n"
     ]
    }
   ],
   "source": [
    "train = pd.read_csv(\"../data/task-2/train.csv\")  \n",
    "train = add_Column(train)\n",
    "train.to_csv('../data/task-1/train2.csv')  \n",
    "train = pd.read_csv(\"../data/task-1/train2.csv\")  \n",
    "print(train.loc[25, 'original'])\n",
    "print(train.loc[25, 'original2'])\n",
    "print(train.loc[25, 'edit'])\n",
    "print(train.loc[25, 'new'])"
   ]
  },
  {
   "cell_type": "code",
   "execution_count": 5,
   "metadata": {},
   "outputs": [
    {
     "name": "stdout",
     "output_type": "stream",
     "text": [
      " <Donald Trump Jr./> should publicly testify in Russia probe , Democrat on Senate Judiciary Committee says\n",
      "Accident\n",
      " Accident should publicly testify in Russia probe , Democrat on Senate Judiciary Committee says\n"
     ]
    }
   ],
   "source": [
    "print(train.loc[234, 'original'])\n",
    "print(train.loc[25, 'original2'])\n",
    "print(train.loc[234, 'edit'])\n",
    "print(train.loc[234, 'new'])"
   ]
  },
  {
   "cell_type": "code",
   "execution_count": 6,
   "metadata": {},
   "outputs": [
    {
     "name": "stdout",
     "output_type": "stream",
     "text": [
      "Special <prosecutor/> appointed to Trump Russia\n",
      "chef\n",
      "Special chef appointed to Trump Russia\n"
     ]
    }
   ],
   "source": [
    "dev = pd.read_csv(\"../data/task-1/dev.csv\")  \n",
    "dev = add_Column(dev)\n",
    "dev.to_csv('../data/task-1/dev2.csv')  \n",
    "dev = pd.read_csv(\"../data/task-1/dev2.csv\")  \n",
    "print(dev.loc[1, 'original'])\n",
    "print(dev.loc[1, 'edit'])\n",
    "print(dev.loc[1, 'new'])"
   ]
  },
  {
   "cell_type": "code",
   "execution_count": 20,
   "metadata": {},
   "outputs": [
    {
     "data": {
      "text/plain": [
       "'Alex Jones'"
      ]
     },
     "execution_count": 20,
     "metadata": {},
     "output_type": "execute_result"
    }
   ],
   "source": [
    "word='aassssa<Alex Jones/>'\n",
    "replace_word = re.match( r'.*?<(.*?)\\/>', word)\n",
    "replace_word.group(1)"
   ]
  }
 ],
 "metadata": {
  "kernelspec": {
   "display_name": "Python 3",
   "language": "python",
   "name": "python3"
  },
  "language_info": {
   "codemirror_mode": {
    "name": "ipython",
    "version": 3
   },
   "file_extension": ".py",
   "mimetype": "text/x-python",
   "name": "python",
   "nbconvert_exporter": "python",
   "pygments_lexer": "ipython3",
   "version": "3.7.5"
  }
 },
 "nbformat": 4,
 "nbformat_minor": 2
}
