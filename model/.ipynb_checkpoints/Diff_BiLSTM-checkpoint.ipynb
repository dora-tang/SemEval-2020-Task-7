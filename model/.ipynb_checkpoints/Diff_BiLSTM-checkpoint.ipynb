{
 "cells": [
  {
   "cell_type": "code",
   "execution_count": 9,
   "metadata": {},
   "outputs": [],
   "source": [
    "import torch\n",
    "import pandas as pd\n",
    "from torchtext import data\n",
    "from torchtext.vocab import Vectors\n",
    "from torch.nn import init\n",
    "from tqdm import tqdm\n",
    "from torchtext.vocab import GloVe\n",
    "from torchtext import data"
   ]
  },
  {
   "cell_type": "markdown",
   "metadata": {},
   "source": [
    "# data "
   ]
  },
  {
   "cell_type": "markdown",
   "metadata": {},
   "source": [
    "### my dataset "
   ]
  },
  {
   "cell_type": "code",
   "execution_count": 10,
   "metadata": {},
   "outputs": [],
   "source": [
    "def get_dataset(csv_data, id_field, text_field, label_field, is_final_valid = False):\n",
    "    fields = [('id', id_field), ('new', text_field), ('original2', text_field), ('meanGrade', label_field)]\n",
    "    fields2 = [('id', id_field), ('new', text_field), ('original2', text_field)]\n",
    "    examples = []\n",
    "    if is_final_valid:\n",
    "        for myid, text1, text2 in tqdm(zip(csv_data['id'], csv_data['new'], csv_data['original2'])):\n",
    "            examples.append(data.Example.fromlist([myid, text1, text2], fields2))\n",
    "        return examples, fields2\n",
    "    else:\n",
    "        for myid, text1, text2, label in tqdm(zip(csv_data['id'], csv_data['new'], csv_data['original2'], csv_data['meanGrade'])):\n",
    "            examples.append(data.Example.fromlist([myid, text1, text2, label], fields))\n",
    "        return examples, fields"
   ]
  },
  {
   "cell_type": "markdown",
   "metadata": {},
   "source": [
    "### load data"
   ]
  },
  {
   "cell_type": "code",
   "execution_count": 11,
   "metadata": {},
   "outputs": [],
   "source": [
    "TEXT = data.Field(tokenize='spacy',sequential=True)\n",
    "LABEL = data.LabelField(use_vocab=False, dtype=torch.float)\n",
    "ID = data.LabelField(use_vocab=False)\n",
    "\n",
    "train_path = \"data/task-1/train2.csv\"\n",
    "final_valid_path = \"data/task-1/dev2.csv\"\n",
    "    \n",
    "df = pd.read_csv(train_path)\n",
    "final_valid = pd.read_csv(final_valid_path)\n",
    "\n",
    "test = df[-1000:]\n",
    "test = test.reset_index(drop=True)\n",
    "train = df[:len(df)-1000]\n",
    "valid = train[-1000:]\n",
    "valid = valid.reset_index(drop=True)\n",
    "train = train[:len(train)-1000]"
   ]
  },
  {
   "cell_type": "markdown",
   "metadata": {},
   "source": [
    "### split data "
   ]
  },
  {
   "cell_type": "code",
   "execution_count": 12,
   "metadata": {},
   "outputs": [
    {
     "name": "stderr",
     "output_type": "stream",
     "text": [
      "7652it [00:01, 7186.73it/s]\n",
      "1000it [00:00, 8888.72it/s]\n",
      "1000it [00:00, 8583.93it/s]\n",
      "2419it [00:00, 6741.65it/s]\n"
     ]
    },
    {
     "name": "stdout",
     "output_type": "stream",
     "text": [
      "Number of training examples: 7652\n",
      "Number of validation examples: 1000\n",
      "Number of testing examples: 1000\n",
      "Number of final_valid examples: 2419\n"
     ]
    }
   ],
   "source": [
    "train_examples, train_fields = get_dataset(train, ID, TEXT, LABEL)\n",
    "valid_examples, valid_fields = get_dataset(valid, ID, TEXT, LABEL)\n",
    "# test_examples, test_fields = get_dataset(test, TEXT, None, True)\n",
    "test_examples, test_fields = get_dataset(test, ID, TEXT, LABEL)\n",
    "final_valid_examples, final_valid_fields = get_dataset(final_valid, ID, TEXT, LABEL, True)\n",
    "\n",
    "\n",
    "train_data = data.Dataset(train_examples, train_fields)\n",
    "valid_data = data.Dataset(valid_examples, valid_fields)\n",
    "test_data = data.Dataset(test_examples, test_fields)\n",
    "final_valid_data = data.Dataset(final_valid_examples, final_valid_fields)\n",
    "\n",
    "print(f'Number of training examples: {len(train_data)}')\n",
    "print(f'Number of validation examples: {len(valid_data)}')\n",
    "print(f'Number of testing examples: {len(test_data)}')\n",
    "print(f'Number of final_valid examples: {len(final_valid_data)}')"
   ]
  },
  {
   "cell_type": "markdown",
   "metadata": {},
   "source": [
    "### import Glove"
   ]
  },
  {
   "cell_type": "code",
   "execution_count": 13,
   "metadata": {},
   "outputs": [
    {
     "name": "stdout",
     "output_type": "stream",
     "text": [
      "Unique tokens in TEXT vocabulary: 12452\n",
      "Unique tokens in LABEL vocabulary: 33\n"
     ]
    }
   ],
   "source": [
    "TEXT.build_vocab(train_data,vectors=\"glove.840B.300d\", unk_init=torch.Tensor.normal_)\n",
    "LABEL.build_vocab(train_data)\n",
    "print(f\"Unique tokens in TEXT vocabulary: {len(TEXT.vocab)}\")\n",
    "print(f\"Unique tokens in LABEL vocabulary: {len(LABEL.vocab)}\")\n"
   ]
  },
  {
   "cell_type": "code",
   "execution_count": 14,
   "metadata": {},
   "outputs": [
    {
     "name": "stdout",
     "output_type": "stream",
     "text": [
      "[('Trump', 2737), ('to', 2265), (\"'\", 2250), (',', 1881), (':', 1424), ('in', 1387), ('the', 1266), (\"'s\", 1219), ('of', 1204), ('-', 1036), ('for', 862), ('on', 843), ('a', 725), ('’s', 632), ('and', 615), ('is', 586), ('.', 498), ('with', 464), ('The', 429), ('’', 427)]\n",
      "defaultdict(None, {0.8: 0, 0.6: 1, 1.0: 2, 0.4: 3, 1.2: 4, 0.2: 5, 1.4: 6, 1.6: 7, 0.0: 8, 1.8: 9, 2.0: 10, 2.2: 11, 2.4: 12, 2.6: 13, 1.3: 14, 1.1: 15, 2.8: 16, 0.9: 17, 1.5: 18, 0.5: 19, 0.7: 20, 1.9: 21, 1.7: 22, 0.3: 23, 2.1: 24, 3.0: 25, 0.8666666666666667: 26, 1.3333333333333333: 27, 1.5333333333333334: 28, 2.066666666666667: 29, 2.1333333333333333: 30, 2.3: 31, 2.5: 32})\n",
      "[(0.8, 947), (0.6, 924), (1.0, 918), (0.4, 870), (1.2, 816), (0.2, 746), (1.4, 635), (1.6, 509), (0.0, 406), (1.8, 334), (2.0, 239), (2.2, 131), (2.4, 75), (2.6, 29), (1.3, 13), (1.1, 10), (2.8, 9), (0.9, 7), (1.5, 6), (0.5, 4), (1.9, 4), (0.7, 4), (1.7, 3), (3.0, 2), (2.1, 2), (0.3, 2), (2.066666666666667, 1), (2.1333333333333333, 1), (2.5, 1), (0.8666666666666667, 1), (2.3, 1), (1.3333333333333333, 1), (1.5333333333333334, 1)]\n"
     ]
    }
   ],
   "source": [
    "print(TEXT.vocab.freqs.most_common(20))\n",
    "print(LABEL.vocab.stoi)\n",
    "print(LABEL.vocab.freqs.most_common(40))"
   ]
  },
  {
   "cell_type": "markdown",
   "metadata": {},
   "source": [
    "### baches example"
   ]
  },
  {
   "cell_type": "code",
   "execution_count": 15,
   "metadata": {},
   "outputs": [],
   "source": [
    "BATCH_SIZE = 32\n",
    "\n",
    "device = torch.device('cuda' if torch.cuda.is_available() else 'cpu')\n",
    "\n",
    "train_iterator, valid_iterator, test_iterator, final_valid_iterator = data.BucketIterator.splits(\n",
    "    (train_data, valid_data, test_data, final_valid_data), \n",
    "    batch_size=BATCH_SIZE,\n",
    "    sort_key=lambda x: len(x.new), # the BucketIterator needs to be told what function it should use to group the data.\n",
    "    sort_within_batch=False,\n",
    "    device=device)"
   ]
  },
  {
   "cell_type": "markdown",
   "metadata": {},
   "source": [
    "# Diff_BiLSTM "
   ]
  },
  {
   "cell_type": "code",
   "execution_count": null,
   "metadata": {},
   "outputs": [],
   "source": [
    "import torch.nn as nn\n",
    "import torch.nn.functional as F\n",
    "\n",
    "class Diff_BiLSTMModel(nn.Module):\n",
    "    def __init__(self, vocab_size, embedding_dim, output_dim, pad_idx, hidden_dim, dropout):\n",
    "        super().__init__()\n",
    "        self.embedding = nn.Embedding(vocab_size, embedding_dim, padding_idx=pad_idx)\n",
    "        self.lstm = nn.LSTM(embedding_dim, hidden_dim, bidirectional=True, num_layers=2) ### TODO\n",
    "        self.fc_o = nn.Linear(hidden_dim*4, output_dim)\n",
    "        self.dropout = nn.Dropout(dropout)\n",
    "        \n",
    "    def forward(self, text1, text2):\n",
    "        # text[sent_len, batch_size]\n",
    "        embedded1 = self.embedding(text1) \n",
    "        # embeded[sent_len, batch_size, embedding_dim]\n",
    "        embedded1 = self.dropout(embedded1) \n",
    "        output1, (hidden1, cell1) = self.lstm(embedded1)\n",
    "        hidden1 = self.dropout(torch.cat((hidden1[-2,:,:], hidden1[-1,:,:]), dim=1))\n",
    "        # hidden[batch_size, hidden_dim * num_directions]\n",
    "        \n",
    "        embedded2 = self.embedding(text2) \n",
    "        embedded2 = self.dropout(embedded2) \n",
    "        output2, (hidden2, cell1) = self.lstm(embedded2)\n",
    "        hidden2 = self.dropout(torch.cat((hidden2[-2,:,:], hidden2[-1,:,:]), dim=1))\n",
    "        # hidden[batch_size, hidden_dim * num_directions]\n",
    "        hidden = (hidden1-hidden2).squeeze(0)\n",
    "        return self.fc_h(hidden)"
   ]
  },
  {
   "cell_type": "markdown",
   "metadata": {},
   "source": [
    "# training"
   ]
  },
  {
   "cell_type": "markdown",
   "metadata": {},
   "source": [
    "## parameters"
   ]
  },
  {
   "cell_type": "code",
   "execution_count": 17,
   "metadata": {},
   "outputs": [],
   "source": [
    "INPUT_DIM = len(TEXT.vocab)\n",
    "EMBEDDING_DIM = 300\n",
    "OUTPUT_DIM = 1 # Classification: num_labels/Regression: 1\n",
    "PAD_IDX = TEXT.vocab.stoi[TEXT.pad_token]\n",
    "HIDDEN_SIZE = 16 \n",
    "DROPOUT = 0.5 \n",
    "\n",
    "model = BiLSTMModel(INPUT_DIM, EMBEDDING_DIM, OUTPUT_DIM, PAD_IDX, HIDDEN_SIZE, DROPOUT)"
   ]
  },
  {
   "cell_type": "code",
   "execution_count": 18,
   "metadata": {},
   "outputs": [
    {
     "name": "stdout",
     "output_type": "stream",
     "text": [
      "The model has 3,776,337 trainable parameters\n"
     ]
    }
   ],
   "source": [
    "def count_parameters(model):\n",
    "    return sum(p.numel() for p in model.parameters() if p.requires_grad)\n",
    "\n",
    "print(f'The model has {count_parameters(model):,} trainable parameters')"
   ]
  },
  {
   "cell_type": "code",
   "execution_count": 19,
   "metadata": {},
   "outputs": [
    {
     "data": {
      "text/plain": [
       "tensor([[ 1.2156,  0.3010,  0.0606,  ..., -1.1458, -0.6260,  1.7256],\n",
       "        [-0.5369, -1.2060, -0.2253,  ...,  0.7642, -0.8394,  0.8487],\n",
       "        [-0.3364,  0.0417,  0.4885,  ..., -0.1699,  0.0208,  0.4805],\n",
       "        ...,\n",
       "        [ 0.2707, -0.0874, -0.3683,  ...,  0.0368, -0.2172, -0.3406],\n",
       "        [-0.0546, -0.3857, -0.1122,  ..., -0.0217, -0.0862, -0.0634],\n",
       "        [ 0.1684, -0.0696, -0.0951,  ...,  0.0390,  0.5105, -0.0908]])"
      ]
     },
     "execution_count": 19,
     "metadata": {},
     "output_type": "execute_result"
    }
   ],
   "source": [
    "pretrained_embeddings = TEXT.vocab.vectors\n",
    "model.embedding.weight.data.copy_(pretrained_embeddings)\n",
    "model.embedding.weight.requires_grad = False\n",
    "UNK_IDX = TEXT.vocab.stoi[TEXT.unk_token]\n",
    "\n",
    "model.embedding.weight.data[UNK_IDX] = torch.zeros(EMBEDDING_DIM)\n",
    "model.embedding.weight.data[PAD_IDX] = torch.zeros(EMBEDDING_DIM)"
   ]
  },
  {
   "cell_type": "markdown",
   "metadata": {},
   "source": [
    "## training"
   ]
  },
  {
   "cell_type": "code",
   "execution_count": 21,
   "metadata": {},
   "outputs": [],
   "source": [
    "import torch.optim as optim\n",
    "\n",
    "optimizer = optim.Adam(model.parameters()) ### lr\n",
    "criterion = nn.MSELoss(reduction='sum') \n",
    "model = model.to(device)\n",
    "criterion = criterion.to(device)"
   ]
  },
  {
   "cell_type": "code",
   "execution_count": 22,
   "metadata": {},
   "outputs": [],
   "source": [
    "def trainModel(model, iterator, optimizer, criterion):\n",
    "    epoch_loss = 0\n",
    "    model.train()\n",
    "    \n",
    "    for batch in iterator:\n",
    "        optimizer.zero_grad()\n",
    "        predictions = model(batch.new, batch.original2).squeeze(1)\n",
    "        loss = criterion(predictions, batch.meanGrade)\n",
    "        loss.backward()\n",
    "        optimizer.step()\n",
    "        \n",
    "        epoch_loss += loss.item()\n",
    "        \n",
    "    return epoch_loss / len(iterator)"
   ]
  },
  {
   "cell_type": "code",
   "execution_count": 23,
   "metadata": {},
   "outputs": [],
   "source": [
    "def evaluate(model, iterator, criterion):\n",
    "    epoch_loss = 0\n",
    "    \n",
    "    model.eval()\n",
    "    with torch.no_grad():\n",
    "        for batch in iterator:\n",
    "            predictions = model(batch.new, batch.original2).squeeze(1)\n",
    "            loss = criterion(predictions, batch.meanGrade)\n",
    "        \n",
    "            epoch_loss += loss.item()\n",
    "            \n",
    "    return epoch_loss / len(iterator)"
   ]
  },
  {
   "cell_type": "code",
   "execution_count": null,
   "metadata": {},
   "outputs": [],
   "source": [
    "N_EPOCHS = 40\n",
    "\n",
    "best_valid_loss = float('inf')\n",
    "\n",
    "for epoch in range(N_EPOCHS):\n",
    "    \n",
    "    train_loss = trainModel(model, train_iterator, optimizer, criterion)\n",
    "    valid_loss = evaluate(model, valid_iterator, criterion)\n",
    "    \n",
    "    if valid_loss < best_valid_loss:\n",
    "        best_valid_loss = valid_loss\n",
    "        torch.save(model.state_dict(), 'lstm-model.pth')\n",
    "        print(\"save\")\n",
    "    \n",
    "    print(f'Epoch: {epoch+1:02}')\n",
    "    print(f'\\tTrain Loss: {train_loss:.3f}')\n",
    "    print(f'\\tValid Loss: {valid_loss:.3f}')\n",
    "    \n",
    "    "
   ]
  },
  {
   "cell_type": "markdown",
   "metadata": {},
   "source": [
    "# Evaluation (MSE)"
   ]
  },
  {
   "cell_type": "code",
   "execution_count": 17,
   "metadata": {},
   "outputs": [],
   "source": [
    "import numpy as np\n",
    "def myMSE(model, iterator):\n",
    "    pred_list = np.array([])\n",
    "    real_list = np.array([])\n",
    "    id_list = np.array([])\n",
    "    \n",
    "#     Result_Dict = sorted(list(set(train['meanGrade'])))\n",
    "    \n",
    "    model.eval()\n",
    "    with torch.no_grad():\n",
    "        for batch in iterator:\n",
    "            predictions = model(batch.new).squeeze(1)\n",
    "            pred = np.array(predictions.data.tolist())\n",
    "            real = np.array(batch.meanGrade.data.tolist())\n",
    "            myid = np.array(batch.id.data.tolist())\n",
    "            real_list = np.append(real_list, real)\n",
    "            pred_list = np.append(pred_list, pred)\n",
    "            id_list = np.append(id_list, myid)\n",
    "\n",
    "    \n",
    "# #     csv['pred_label'] = pred_list.round(0).astype(int)\n",
    "#     csv['pred'] = [Result_Dict[i] for i in csv['pred_label']]\n",
    "\n",
    "\n",
    "    df = pd.DataFrame({'id':id_list, 'real':real_list, 'pred':pred_list})\n",
    "    rmse = np.sqrt(np.mean((df['real'] - df['pred'])**2))\n",
    "            \n",
    "    print(rmse)\n",
    "    return df"
   ]
  },
  {
   "cell_type": "markdown",
   "metadata": {},
   "source": [
    "# 测试最后一次的model"
   ]
  },
  {
   "cell_type": "code",
   "execution_count": 18,
   "metadata": {},
   "outputs": [
    {
     "name": "stdout",
     "output_type": "stream",
     "text": [
      "0.3361164227368936\n"
     ]
    }
   ],
   "source": [
    "df = myMSE(model, train_iterator)"
   ]
  },
  {
   "cell_type": "code",
   "execution_count": 19,
   "metadata": {},
   "outputs": [
    {
     "data": {
      "text/html": [
       "<div>\n",
       "<style scoped>\n",
       "    .dataframe tbody tr th:only-of-type {\n",
       "        vertical-align: middle;\n",
       "    }\n",
       "\n",
       "    .dataframe tbody tr th {\n",
       "        vertical-align: top;\n",
       "    }\n",
       "\n",
       "    .dataframe thead th {\n",
       "        text-align: right;\n",
       "    }\n",
       "</style>\n",
       "<table border=\"1\" class=\"dataframe\">\n",
       "  <thead>\n",
       "    <tr style=\"text-align: right;\">\n",
       "      <th></th>\n",
       "      <th>id</th>\n",
       "      <th>real</th>\n",
       "      <th>pred</th>\n",
       "    </tr>\n",
       "  </thead>\n",
       "  <tbody>\n",
       "    <tr>\n",
       "      <th>779</th>\n",
       "      <td>11941.0</td>\n",
       "      <td>0.0</td>\n",
       "      <td>0.719049</td>\n",
       "    </tr>\n",
       "    <tr>\n",
       "      <th>345</th>\n",
       "      <td>6276.0</td>\n",
       "      <td>0.0</td>\n",
       "      <td>0.602416</td>\n",
       "    </tr>\n",
       "    <tr>\n",
       "      <th>2787</th>\n",
       "      <td>2969.0</td>\n",
       "      <td>0.0</td>\n",
       "      <td>0.248862</td>\n",
       "    </tr>\n",
       "    <tr>\n",
       "      <th>2785</th>\n",
       "      <td>4767.0</td>\n",
       "      <td>0.0</td>\n",
       "      <td>0.309740</td>\n",
       "    </tr>\n",
       "    <tr>\n",
       "      <th>6441</th>\n",
       "      <td>7860.0</td>\n",
       "      <td>0.0</td>\n",
       "      <td>0.509659</td>\n",
       "    </tr>\n",
       "    <tr>\n",
       "      <th>...</th>\n",
       "      <td>...</td>\n",
       "      <td>...</td>\n",
       "      <td>...</td>\n",
       "    </tr>\n",
       "    <tr>\n",
       "      <th>3638</th>\n",
       "      <td>7255.0</td>\n",
       "      <td>2.8</td>\n",
       "      <td>1.811278</td>\n",
       "    </tr>\n",
       "    <tr>\n",
       "      <th>2448</th>\n",
       "      <td>7594.0</td>\n",
       "      <td>2.8</td>\n",
       "      <td>1.631923</td>\n",
       "    </tr>\n",
       "    <tr>\n",
       "      <th>3086</th>\n",
       "      <td>590.0</td>\n",
       "      <td>2.8</td>\n",
       "      <td>1.947464</td>\n",
       "    </tr>\n",
       "    <tr>\n",
       "      <th>480</th>\n",
       "      <td>3404.0</td>\n",
       "      <td>3.0</td>\n",
       "      <td>1.699795</td>\n",
       "    </tr>\n",
       "    <tr>\n",
       "      <th>2679</th>\n",
       "      <td>1229.0</td>\n",
       "      <td>3.0</td>\n",
       "      <td>2.026911</td>\n",
       "    </tr>\n",
       "  </tbody>\n",
       "</table>\n",
       "<p>7652 rows × 3 columns</p>\n",
       "</div>"
      ],
      "text/plain": [
       "           id  real      pred\n",
       "779   11941.0   0.0  0.719049\n",
       "345    6276.0   0.0  0.602416\n",
       "2787   2969.0   0.0  0.248862\n",
       "2785   4767.0   0.0  0.309740\n",
       "6441   7860.0   0.0  0.509659\n",
       "...       ...   ...       ...\n",
       "3638   7255.0   2.8  1.811278\n",
       "2448   7594.0   2.8  1.631923\n",
       "3086    590.0   2.8  1.947464\n",
       "480    3404.0   3.0  1.699795\n",
       "2679   1229.0   3.0  2.026911\n",
       "\n",
       "[7652 rows x 3 columns]"
      ]
     },
     "execution_count": 19,
     "metadata": {},
     "output_type": "execute_result"
    }
   ],
   "source": [
    "df.sort_values(by=['real'])"
   ]
  },
  {
   "cell_type": "code",
   "execution_count": 20,
   "metadata": {},
   "outputs": [
    {
     "name": "stdout",
     "output_type": "stream",
     "text": [
      "0.6122093213384863\n"
     ]
    }
   ],
   "source": [
    "df = myMSE(model, valid_iterator)"
   ]
  },
  {
   "cell_type": "code",
   "execution_count": 21,
   "metadata": {},
   "outputs": [
    {
     "data": {
      "text/html": [
       "<div>\n",
       "<style scoped>\n",
       "    .dataframe tbody tr th:only-of-type {\n",
       "        vertical-align: middle;\n",
       "    }\n",
       "\n",
       "    .dataframe tbody tr th {\n",
       "        vertical-align: top;\n",
       "    }\n",
       "\n",
       "    .dataframe thead th {\n",
       "        text-align: right;\n",
       "    }\n",
       "</style>\n",
       "<table border=\"1\" class=\"dataframe\">\n",
       "  <thead>\n",
       "    <tr style=\"text-align: right;\">\n",
       "      <th></th>\n",
       "      <th>id</th>\n",
       "      <th>real</th>\n",
       "      <th>pred</th>\n",
       "    </tr>\n",
       "  </thead>\n",
       "  <tbody>\n",
       "    <tr>\n",
       "      <th>724</th>\n",
       "      <td>12928.0</td>\n",
       "      <td>0.0</td>\n",
       "      <td>0.407617</td>\n",
       "    </tr>\n",
       "    <tr>\n",
       "      <th>101</th>\n",
       "      <td>4984.0</td>\n",
       "      <td>0.0</td>\n",
       "      <td>0.357371</td>\n",
       "    </tr>\n",
       "    <tr>\n",
       "      <th>313</th>\n",
       "      <td>5169.0</td>\n",
       "      <td>0.0</td>\n",
       "      <td>1.207764</td>\n",
       "    </tr>\n",
       "    <tr>\n",
       "      <th>647</th>\n",
       "      <td>8479.0</td>\n",
       "      <td>0.0</td>\n",
       "      <td>1.044237</td>\n",
       "    </tr>\n",
       "    <tr>\n",
       "      <th>320</th>\n",
       "      <td>14376.0</td>\n",
       "      <td>0.0</td>\n",
       "      <td>0.288494</td>\n",
       "    </tr>\n",
       "    <tr>\n",
       "      <th>...</th>\n",
       "      <td>...</td>\n",
       "      <td>...</td>\n",
       "      <td>...</td>\n",
       "    </tr>\n",
       "    <tr>\n",
       "      <th>575</th>\n",
       "      <td>4142.0</td>\n",
       "      <td>2.6</td>\n",
       "      <td>1.704642</td>\n",
       "    </tr>\n",
       "    <tr>\n",
       "      <th>452</th>\n",
       "      <td>9899.0</td>\n",
       "      <td>2.6</td>\n",
       "      <td>1.109124</td>\n",
       "    </tr>\n",
       "    <tr>\n",
       "      <th>327</th>\n",
       "      <td>7693.0</td>\n",
       "      <td>2.6</td>\n",
       "      <td>1.295462</td>\n",
       "    </tr>\n",
       "    <tr>\n",
       "      <th>695</th>\n",
       "      <td>11170.0</td>\n",
       "      <td>2.8</td>\n",
       "      <td>1.675464</td>\n",
       "    </tr>\n",
       "    <tr>\n",
       "      <th>894</th>\n",
       "      <td>2409.0</td>\n",
       "      <td>2.8</td>\n",
       "      <td>0.857066</td>\n",
       "    </tr>\n",
       "  </tbody>\n",
       "</table>\n",
       "<p>1000 rows × 3 columns</p>\n",
       "</div>"
      ],
      "text/plain": [
       "          id  real      pred\n",
       "724  12928.0   0.0  0.407617\n",
       "101   4984.0   0.0  0.357371\n",
       "313   5169.0   0.0  1.207764\n",
       "647   8479.0   0.0  1.044237\n",
       "320  14376.0   0.0  0.288494\n",
       "..       ...   ...       ...\n",
       "575   4142.0   2.6  1.704642\n",
       "452   9899.0   2.6  1.109124\n",
       "327   7693.0   2.6  1.295462\n",
       "695  11170.0   2.8  1.675464\n",
       "894   2409.0   2.8  0.857066\n",
       "\n",
       "[1000 rows x 3 columns]"
      ]
     },
     "execution_count": 21,
     "metadata": {},
     "output_type": "execute_result"
    }
   ],
   "source": [
    "df.sort_values(by=['real'])"
   ]
  },
  {
   "cell_type": "markdown",
   "metadata": {},
   "source": [
    "# 测试 best的model"
   ]
  },
  {
   "cell_type": "code",
   "execution_count": 22,
   "metadata": {},
   "outputs": [
    {
     "name": "stdout",
     "output_type": "stream",
     "text": [
      "0.47532969415169535\n"
     ]
    }
   ],
   "source": [
    "model.load_state_dict(torch.load(\"lstm-model.pth\"))\n",
    "df = myMSE(model, train_iterator)"
   ]
  },
  {
   "cell_type": "code",
   "execution_count": 23,
   "metadata": {},
   "outputs": [
    {
     "data": {
      "text/html": [
       "<div>\n",
       "<style scoped>\n",
       "    .dataframe tbody tr th:only-of-type {\n",
       "        vertical-align: middle;\n",
       "    }\n",
       "\n",
       "    .dataframe tbody tr th {\n",
       "        vertical-align: top;\n",
       "    }\n",
       "\n",
       "    .dataframe thead th {\n",
       "        text-align: right;\n",
       "    }\n",
       "</style>\n",
       "<table border=\"1\" class=\"dataframe\">\n",
       "  <thead>\n",
       "    <tr style=\"text-align: right;\">\n",
       "      <th></th>\n",
       "      <th>id</th>\n",
       "      <th>real</th>\n",
       "      <th>pred</th>\n",
       "    </tr>\n",
       "  </thead>\n",
       "  <tbody>\n",
       "    <tr>\n",
       "      <th>1775</th>\n",
       "      <td>13379.0</td>\n",
       "      <td>0.0</td>\n",
       "      <td>0.960282</td>\n",
       "    </tr>\n",
       "    <tr>\n",
       "      <th>3175</th>\n",
       "      <td>12094.0</td>\n",
       "      <td>0.0</td>\n",
       "      <td>0.927450</td>\n",
       "    </tr>\n",
       "    <tr>\n",
       "      <th>7580</th>\n",
       "      <td>8069.0</td>\n",
       "      <td>0.0</td>\n",
       "      <td>1.147470</td>\n",
       "    </tr>\n",
       "    <tr>\n",
       "      <th>3152</th>\n",
       "      <td>8228.0</td>\n",
       "      <td>0.0</td>\n",
       "      <td>0.611814</td>\n",
       "    </tr>\n",
       "    <tr>\n",
       "      <th>1247</th>\n",
       "      <td>10522.0</td>\n",
       "      <td>0.0</td>\n",
       "      <td>0.968475</td>\n",
       "    </tr>\n",
       "    <tr>\n",
       "      <th>...</th>\n",
       "      <td>...</td>\n",
       "      <td>...</td>\n",
       "      <td>...</td>\n",
       "    </tr>\n",
       "    <tr>\n",
       "      <th>2411</th>\n",
       "      <td>9933.0</td>\n",
       "      <td>2.8</td>\n",
       "      <td>1.477611</td>\n",
       "    </tr>\n",
       "    <tr>\n",
       "      <th>1787</th>\n",
       "      <td>1664.0</td>\n",
       "      <td>2.8</td>\n",
       "      <td>1.250922</td>\n",
       "    </tr>\n",
       "    <tr>\n",
       "      <th>5289</th>\n",
       "      <td>7255.0</td>\n",
       "      <td>2.8</td>\n",
       "      <td>1.313781</td>\n",
       "    </tr>\n",
       "    <tr>\n",
       "      <th>5404</th>\n",
       "      <td>3404.0</td>\n",
       "      <td>3.0</td>\n",
       "      <td>1.375417</td>\n",
       "    </tr>\n",
       "    <tr>\n",
       "      <th>2102</th>\n",
       "      <td>1229.0</td>\n",
       "      <td>3.0</td>\n",
       "      <td>1.417900</td>\n",
       "    </tr>\n",
       "  </tbody>\n",
       "</table>\n",
       "<p>7652 rows × 3 columns</p>\n",
       "</div>"
      ],
      "text/plain": [
       "           id  real      pred\n",
       "1775  13379.0   0.0  0.960282\n",
       "3175  12094.0   0.0  0.927450\n",
       "7580   8069.0   0.0  1.147470\n",
       "3152   8228.0   0.0  0.611814\n",
       "1247  10522.0   0.0  0.968475\n",
       "...       ...   ...       ...\n",
       "2411   9933.0   2.8  1.477611\n",
       "1787   1664.0   2.8  1.250922\n",
       "5289   7255.0   2.8  1.313781\n",
       "5404   3404.0   3.0  1.375417\n",
       "2102   1229.0   3.0  1.417900\n",
       "\n",
       "[7652 rows x 3 columns]"
      ]
     },
     "execution_count": 23,
     "metadata": {},
     "output_type": "execute_result"
    }
   ],
   "source": [
    "df.sort_values(by=['real'])"
   ]
  },
  {
   "cell_type": "code",
   "execution_count": 24,
   "metadata": {},
   "outputs": [
    {
     "name": "stdout",
     "output_type": "stream",
     "text": [
      "0.5862284263531602\n"
     ]
    }
   ],
   "source": [
    "df = myMSE(model, valid_iterator)"
   ]
  },
  {
   "cell_type": "code",
   "execution_count": 25,
   "metadata": {},
   "outputs": [
    {
     "data": {
      "text/html": [
       "<div>\n",
       "<style scoped>\n",
       "    .dataframe tbody tr th:only-of-type {\n",
       "        vertical-align: middle;\n",
       "    }\n",
       "\n",
       "    .dataframe tbody tr th {\n",
       "        vertical-align: top;\n",
       "    }\n",
       "\n",
       "    .dataframe thead th {\n",
       "        text-align: right;\n",
       "    }\n",
       "</style>\n",
       "<table border=\"1\" class=\"dataframe\">\n",
       "  <thead>\n",
       "    <tr style=\"text-align: right;\">\n",
       "      <th></th>\n",
       "      <th>id</th>\n",
       "      <th>real</th>\n",
       "      <th>pred</th>\n",
       "    </tr>\n",
       "  </thead>\n",
       "  <tbody>\n",
       "    <tr>\n",
       "      <th>724</th>\n",
       "      <td>12928.0</td>\n",
       "      <td>0.0</td>\n",
       "      <td>0.661611</td>\n",
       "    </tr>\n",
       "    <tr>\n",
       "      <th>101</th>\n",
       "      <td>4984.0</td>\n",
       "      <td>0.0</td>\n",
       "      <td>0.604616</td>\n",
       "    </tr>\n",
       "    <tr>\n",
       "      <th>313</th>\n",
       "      <td>5169.0</td>\n",
       "      <td>0.0</td>\n",
       "      <td>1.001791</td>\n",
       "    </tr>\n",
       "    <tr>\n",
       "      <th>647</th>\n",
       "      <td>8479.0</td>\n",
       "      <td>0.0</td>\n",
       "      <td>1.141619</td>\n",
       "    </tr>\n",
       "    <tr>\n",
       "      <th>320</th>\n",
       "      <td>14376.0</td>\n",
       "      <td>0.0</td>\n",
       "      <td>0.576823</td>\n",
       "    </tr>\n",
       "    <tr>\n",
       "      <th>...</th>\n",
       "      <td>...</td>\n",
       "      <td>...</td>\n",
       "      <td>...</td>\n",
       "    </tr>\n",
       "    <tr>\n",
       "      <th>575</th>\n",
       "      <td>4142.0</td>\n",
       "      <td>2.6</td>\n",
       "      <td>1.042276</td>\n",
       "    </tr>\n",
       "    <tr>\n",
       "      <th>452</th>\n",
       "      <td>9899.0</td>\n",
       "      <td>2.6</td>\n",
       "      <td>0.881399</td>\n",
       "    </tr>\n",
       "    <tr>\n",
       "      <th>327</th>\n",
       "      <td>7693.0</td>\n",
       "      <td>2.6</td>\n",
       "      <td>1.367787</td>\n",
       "    </tr>\n",
       "    <tr>\n",
       "      <th>695</th>\n",
       "      <td>11170.0</td>\n",
       "      <td>2.8</td>\n",
       "      <td>1.414090</td>\n",
       "    </tr>\n",
       "    <tr>\n",
       "      <th>894</th>\n",
       "      <td>2409.0</td>\n",
       "      <td>2.8</td>\n",
       "      <td>1.209095</td>\n",
       "    </tr>\n",
       "  </tbody>\n",
       "</table>\n",
       "<p>1000 rows × 3 columns</p>\n",
       "</div>"
      ],
      "text/plain": [
       "          id  real      pred\n",
       "724  12928.0   0.0  0.661611\n",
       "101   4984.0   0.0  0.604616\n",
       "313   5169.0   0.0  1.001791\n",
       "647   8479.0   0.0  1.141619\n",
       "320  14376.0   0.0  0.576823\n",
       "..       ...   ...       ...\n",
       "575   4142.0   2.6  1.042276\n",
       "452   9899.0   2.6  0.881399\n",
       "327   7693.0   2.6  1.367787\n",
       "695  11170.0   2.8  1.414090\n",
       "894   2409.0   2.8  1.209095\n",
       "\n",
       "[1000 rows x 3 columns]"
      ]
     },
     "execution_count": 25,
     "metadata": {},
     "output_type": "execute_result"
    }
   ],
   "source": [
    "df.sort_values(by=['real'])"
   ]
  },
  {
   "cell_type": "code",
   "execution_count": null,
   "metadata": {},
   "outputs": [],
   "source": [
    "df = myMSE(model, test_iterator)"
   ]
  },
  {
   "cell_type": "code",
   "execution_count": null,
   "metadata": {},
   "outputs": [],
   "source": [
    "df.sort_values(by=['pred'])"
   ]
  },
  {
   "cell_type": "code",
   "execution_count": null,
   "metadata": {},
   "outputs": [],
   "source": [
    "def getFinal_Valid(model, iterator):\n",
    "    pred_list = np.array([])\n",
    "    id_list = np.array([])\n",
    "    \n",
    "    \n",
    "    model.eval()\n",
    "    with torch.no_grad():\n",
    "        for batch in iterator:\n",
    "            predictions = model(batch.new).squeeze(1)\n",
    "            pred = np.array(predictions.data.tolist())\n",
    "            myid = np.array(batch.id.data.tolist())\n",
    "            pred_list = np.append(pred_list, pred)\n",
    "            id_list = np.append(id_list, myid)\n",
    "\n",
    "    df = pd.DataFrame({'id':id_list,'pred':pred_list})\n",
    "            \n",
    "    return df"
   ]
  },
  {
   "cell_type": "code",
   "execution_count": null,
   "metadata": {},
   "outputs": [],
   "source": [
    "df = getFinal_Valid(model, final_valid_iterator)\n",
    "df['id'] = df['id'].round(0).astype(int)\n",
    "df.sort_values(by=['id'])"
   ]
  },
  {
   "cell_type": "code",
   "execution_count": null,
   "metadata": {},
   "outputs": [],
   "source": [
    "data = pd.merge(df,final_valid)\n",
    "data = data[['id','pred']] \n",
    "data.sort_values(by=['id'])"
   ]
  },
  {
   "cell_type": "code",
   "execution_count": null,
   "metadata": {},
   "outputs": [],
   "source": [
    "out_loc = '../output/task-1-output.csv'\n",
    "data.to_csv(out_loc, index=False)"
   ]
  }
 ],
 "metadata": {
  "kernelspec": {
   "display_name": "Python 3",
   "language": "python",
   "name": "python3"
  },
  "language_info": {
   "codemirror_mode": {
    "name": "ipython",
    "version": 3
   },
   "file_extension": ".py",
   "mimetype": "text/x-python",
   "name": "python",
   "nbconvert_exporter": "python",
   "pygments_lexer": "ipython3",
   "version": "3.7.5"
  }
 },
 "nbformat": 4,
 "nbformat_minor": 2
}
