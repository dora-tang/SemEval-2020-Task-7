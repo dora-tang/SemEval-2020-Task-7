{
 "cells": [
  {
   "cell_type": "code",
   "execution_count": 1,
   "metadata": {},
   "outputs": [],
   "source": [
    "import torch\n",
    "import pandas as pd\n",
    "from torchtext import data\n",
    "from torchtext.vocab import Vectors\n",
    "from torch.nn import init\n",
    "from tqdm import tqdm\n",
    "from torchtext.vocab import GloVe\n",
    "from torchtext import data"
   ]
  },
  {
   "cell_type": "markdown",
   "metadata": {},
   "source": [
    "# data "
   ]
  },
  {
   "cell_type": "markdown",
   "metadata": {},
   "source": [
    "### my dataset "
   ]
  },
  {
   "cell_type": "code",
   "execution_count": 2,
   "metadata": {},
   "outputs": [],
   "source": [
    "def get_dataset(csv_data, id_field, text_field, label_field, is_final_valid = False):\n",
    "    fields = [('id', id_field), ('new', text_field), ('meanGrade', label_field)]\n",
    "    fields2 = [('id', id_field), ('new', text_field)]\n",
    "    examples = []\n",
    "    if is_final_valid:\n",
    "        for myid, text in tqdm(zip(csv_data['id'], csv_data['new'])):\n",
    "            examples.append(data.Example.fromlist([myid, text], fields2))\n",
    "        return examples, fields2\n",
    "    else:\n",
    "        for myid, text, label in tqdm(zip(csv_data['id'], csv_data['new'], csv_data['meanGrade'])):\n",
    "            examples.append(data.Example.fromlist([myid, text, label], fields))\n",
    "        return examples, fields"
   ]
  },
  {
   "cell_type": "markdown",
   "metadata": {},
   "source": [
    "### load data"
   ]
  },
  {
   "cell_type": "code",
   "execution_count": null,
   "metadata": {},
   "outputs": [],
   "source": [
    "TEXT = data.Field(tokenize='spacy',sequential=True)\n",
    "LABEL = data.LabelField(use_vocab=False, dtype=torch.float)\n",
    "ID = data.LabelField(use_vocab=False)\n",
    "\n",
    "train_path = \"../data/task-1/train2.csv\"\n",
    "final_valid_path = \"../data/task-1/dev2.csv\"\n",
    "    \n",
    "df = pd.read_csv(train_path)\n",
    "final_valid = pd.read_csv(final_valid_path)\n",
    "\n",
    "test = df[-1000:]\n",
    "test = test.reset_index(drop=True)\n",
    "train = df[:len(df)-1000]\n",
    "valid = train[-1000:]\n",
    "valid = valid.reset_index(drop=True)\n",
    "train = train[:len(train)-1000]"
   ]
  },
  {
   "cell_type": "markdown",
   "metadata": {},
   "source": [
    "### split data "
   ]
  },
  {
   "cell_type": "code",
   "execution_count": null,
   "metadata": {},
   "outputs": [],
   "source": [
    "train_examples, train_fields = get_dataset(train, ID, TEXT, LABEL)\n",
    "valid_examples, valid_fields = get_dataset(valid, ID, TEXT, LABEL)\n",
    "# test_examples, test_fields = get_dataset(test, TEXT, None, True)\n",
    "test_examples, test_fields = get_dataset(test, ID, TEXT, LABEL)\n",
    "final_valid_examples, final_valid_fields = get_dataset(final_valid, ID, TEXT, LABEL, True)\n",
    "\n",
    "\n",
    "train_data = data.Dataset(train_examples, train_fields)\n",
    "valid_data = data.Dataset(valid_examples, valid_fields)\n",
    "test_data = data.Dataset(test_examples, test_fields)\n",
    "final_valid_data = data.Dataset(final_valid_examples, final_valid_fields)\n",
    "\n",
    "print(f'Number of training examples: {len(train_data)}')\n",
    "print(f'Number of validation examples: {len(valid_data)}')\n",
    "print(f'Number of testing examples: {len(test_data)}')\n",
    "print(f'Number of final_valid examples: {len(final_valid_data)}')"
   ]
  },
  {
   "cell_type": "markdown",
   "metadata": {},
   "source": [
    "### import Glove"
   ]
  },
  {
   "cell_type": "code",
   "execution_count": 4,
   "metadata": {},
   "outputs": [],
   "source": [
    "TEXT.build_vocab(train_data,vectors=\"glove.840B.300d\", unk_init=torch.Tensor.normal_)\n",
    "LABEL.build_vocab(train_data)\n",
    "print(f\"Unique tokens in TEXT vocabulary: {len(TEXT.vocab)}\")\n",
    "print(f\"Unique tokens in LABEL vocabulary: {len(LABEL.vocab)}\")\n"
   ]
  },
  {
   "cell_type": "code",
   "execution_count": null,
   "metadata": {},
   "outputs": [],
   "source": [
    "print(TEXT.vocab.freqs.most_common(20))\n",
    "print(LABEL.vocab.stoi)\n",
    "print(LABEL.vocab.freqs.most_common(40))"
   ]
  },
  {
   "cell_type": "markdown",
   "metadata": {},
   "source": [
    "### baches example"
   ]
  },
  {
   "cell_type": "code",
   "execution_count": 82,
   "metadata": {},
   "outputs": [],
   "source": [
    "BATCH_SIZE = 32\n",
    "\n",
    "device = torch.device('cuda' if torch.cuda.is_available() else 'cpu')\n",
    "\n",
    "train_iterator, valid_iterator, test_iterator, final_valid_iterator = data.BucketIterator.splits(\n",
    "    (train_data, valid_data, test_data, final_valid_data), \n",
    "    batch_size=BATCH_SIZE,\n",
    "    sort_key=lambda x: len(x.new), # the BucketIterator needs to be told what function it should use to group the data.\n",
    "    sort_within_batch=False,\n",
    "    device=device)"
   ]
  },
  {
   "cell_type": "markdown",
   "metadata": {},
   "source": [
    "# BiLSTM "
   ]
  },
  {
   "cell_type": "code",
   "execution_count": 83,
   "metadata": {},
   "outputs": [],
   "source": [
    "import torch.nn as nn\n",
    "import torch.nn.functional as F\n",
    "\n",
    "class BiLSTMModel(nn.Module):\n",
    "    def __init__(self, vocab_size, embedding_dim, output_dim, pad_idx, hidden_dim, dropout):\n",
    "        super().__init__()\n",
    "        self.embedding = nn.Embedding(vocab_size, embedding_dim, padding_idx=pad_idx)\n",
    "        self.lstm = nn.LSTM(embedding_dim, hidden_dim, bidirectional=True) \n",
    "        self.fc = nn.Linear(hidden_dim*2, output_dim)\n",
    "        self.dropout = nn.Dropout(dropout)\n",
    "        \n",
    "    def forward(self, text):\n",
    "        # text[sent_len, batch_size]\n",
    "        embedded = self.embedding(text)\n",
    "        # embeded[sent_len, batch_size, embedding_dim]\n",
    "        embedded = self.dropout(embedded) \n",
    "        output, (hidden, cell) = self.lstm(embedded) \n",
    "        hidden = self.dropout(torch.cat((hidden[-2], hidden[-1]), dim=1))\n",
    "        # hidden[batch_size, hidden_dim * num_directions]\n",
    "        return self.fc(hidden.squeeze(0))"
   ]
  },
  {
   "cell_type": "markdown",
   "metadata": {},
   "source": [
    "# training"
   ]
  },
  {
   "cell_type": "markdown",
   "metadata": {},
   "source": [
    "## parameters"
   ]
  },
  {
   "cell_type": "code",
   "execution_count": 84,
   "metadata": {},
   "outputs": [],
   "source": [
    "INPUT_DIM = len(TEXT.vocab)\n",
    "EMBEDDING_DIM = 300\n",
    "OUTPUT_DIM = 1 # Classification: num_labels/Regression: 1\n",
    "PAD_IDX = TEXT.vocab.stoi[TEXT.pad_token]\n",
    "HIDDEN_SIZE = 16 \n",
    "DROPOUT = 0.5 \n",
    "\n",
    "model = BiLSTMModel(INPUT_DIM, EMBEDDING_DIM, OUTPUT_DIM, PAD_IDX, HIDDEN_SIZE, DROPOUT)"
   ]
  },
  {
   "cell_type": "code",
   "execution_count": 85,
   "metadata": {},
   "outputs": [
    {
     "name": "stdout",
     "output_type": "stream",
     "text": [
      "The model has 3,776,337 trainable parameters\n"
     ]
    }
   ],
   "source": [
    "def count_parameters(model):\n",
    "    return sum(p.numel() for p in model.parameters() if p.requires_grad)\n",
    "\n",
    "print(f'The model has {count_parameters(model):,} trainable parameters')"
   ]
  },
  {
   "cell_type": "code",
   "execution_count": 86,
   "metadata": {},
   "outputs": [
    {
     "data": {
      "text/plain": [
       "tensor([[ 1.4284e+00,  2.0316e+00, -1.8117e+00,  ..., -1.6376e+00,\n",
       "         -9.5069e-01, -2.9310e-01],\n",
       "        [ 4.0436e-01,  5.9245e-01,  7.6357e-04,  ..., -3.6533e-01,\n",
       "         -1.1878e-01, -7.8427e-01],\n",
       "        [-3.3637e-01,  4.1678e-02,  4.8849e-01,  ..., -1.6988e-01,\n",
       "          2.0799e-02,  4.8053e-01],\n",
       "        ...,\n",
       "        [ 2.7073e-01, -8.7394e-02, -3.6834e-01,  ...,  3.6836e-02,\n",
       "         -2.1718e-01, -3.4061e-01],\n",
       "        [-5.4644e-02, -3.8569e-01, -1.1224e-01,  ..., -2.1691e-02,\n",
       "         -8.6189e-02, -6.3430e-02],\n",
       "        [ 1.6838e-01, -6.9567e-02, -9.5079e-02,  ...,  3.8989e-02,\n",
       "          5.1054e-01, -9.0771e-02]])"
      ]
     },
     "execution_count": 86,
     "metadata": {},
     "output_type": "execute_result"
    }
   ],
   "source": [
    "pretrained_embeddings = TEXT.vocab.vectors\n",
    "model.embedding.weight.data.copy_(pretrained_embeddings)"
   ]
  },
  {
   "cell_type": "code",
   "execution_count": 87,
   "metadata": {},
   "outputs": [],
   "source": [
    "UNK_IDX = TEXT.vocab.stoi[TEXT.unk_token]\n",
    "\n",
    "model.embedding.weight.data[UNK_IDX] = torch.zeros(EMBEDDING_DIM)\n",
    "model.embedding.weight.data[PAD_IDX] = torch.zeros(EMBEDDING_DIM)"
   ]
  },
  {
   "cell_type": "markdown",
   "metadata": {},
   "source": [
    "## training"
   ]
  },
  {
   "cell_type": "code",
   "execution_count": 88,
   "metadata": {},
   "outputs": [],
   "source": [
    "import torch.optim as optim\n",
    "\n",
    "optimizer = optim.Adam(model.parameters())\n",
    "criterion = nn.MSELoss(reduction='sum') # TODO\n",
    "model = model.to(device)\n",
    "criterion = criterion.to(device)"
   ]
  },
  {
   "cell_type": "code",
   "execution_count": 89,
   "metadata": {},
   "outputs": [],
   "source": [
    "def trainModel(model, iterator, optimizer, criterion):\n",
    "    epoch_loss = 0\n",
    "    model.train()\n",
    "    \n",
    "    for batch in iterator:\n",
    "        optimizer.zero_grad()\n",
    "        predictions = model(batch.new).squeeze(1)\n",
    "        loss = criterion(predictions, batch.meanGrade)\n",
    "        loss.backward()\n",
    "        optimizer.step()\n",
    "        \n",
    "        epoch_loss += loss.item()\n",
    "        \n",
    "    return epoch_loss / len(iterator)"
   ]
  },
  {
   "cell_type": "code",
   "execution_count": 90,
   "metadata": {},
   "outputs": [],
   "source": [
    "def evaluate(model, iterator, criterion):\n",
    "    epoch_loss = 0\n",
    "    \n",
    "    model.eval()\n",
    "    with torch.no_grad():\n",
    "        for batch in iterator:\n",
    "            predictions = model(batch.new).squeeze(1)\n",
    "            loss = criterion(predictions, batch.meanGrade)\n",
    "        \n",
    "            epoch_loss += loss.item()\n",
    "            \n",
    "    return epoch_loss / len(iterator)"
   ]
  },
  {
   "cell_type": "code",
   "execution_count": 91,
   "metadata": {},
   "outputs": [
    {
     "name": "stdout",
     "output_type": "stream",
     "text": [
      "save\n",
      "Epoch: 01\n",
      "\tTrain Loss: 16.048\n",
      "\tValid Loss: 11.289\n",
      "save\n",
      "Epoch: 02\n",
      "\tTrain Loss: 11.640\n",
      "\tValid Loss: 11.107\n",
      "Epoch: 03\n",
      "\tTrain Loss: 10.928\n",
      "\tValid Loss: 11.122\n",
      "save\n",
      "Epoch: 04\n",
      "\tTrain Loss: 9.672\n",
      "\tValid Loss: 11.040\n",
      "Epoch: 05\n",
      "\tTrain Loss: 8.776\n",
      "\tValid Loss: 11.081\n",
      "Epoch: 06\n",
      "\tTrain Loss: 7.896\n",
      "\tValid Loss: 11.176\n",
      "save\n",
      "Epoch: 07\n",
      "\tTrain Loss: 7.340\n",
      "\tValid Loss: 10.966\n",
      "Epoch: 08\n",
      "\tTrain Loss: 6.755\n",
      "\tValid Loss: 11.094\n",
      "Epoch: 09\n",
      "\tTrain Loss: 6.375\n",
      "\tValid Loss: 11.707\n",
      "Epoch: 10\n",
      "\tTrain Loss: 5.794\n",
      "\tValid Loss: 11.596\n"
     ]
    }
   ],
   "source": [
    "N_EPOCHS = 10\n",
    "\n",
    "best_valid_loss = float('inf')\n",
    "\n",
    "for epoch in range(N_EPOCHS):\n",
    "    \n",
    "    train_loss = trainModel(model, train_iterator, optimizer, criterion)\n",
    "    valid_loss = evaluate(model, valid_iterator, criterion)\n",
    "    \n",
    "    if valid_loss < best_valid_loss:\n",
    "        best_valid_loss = valid_loss\n",
    "        torch.save(model.state_dict(), 'lstm-model.pth')\n",
    "        print(\"save\")\n",
    "    \n",
    "    print(f'Epoch: {epoch+1:02}')\n",
    "    print(f'\\tTrain Loss: {train_loss:.3f}')\n",
    "    print(f'\\tValid Loss: {valid_loss:.3f}')\n",
    "    \n",
    "    "
   ]
  },
  {
   "cell_type": "markdown",
   "metadata": {},
   "source": [
    "# Evaluation (MSE)"
   ]
  },
  {
   "cell_type": "code",
   "execution_count": 92,
   "metadata": {},
   "outputs": [],
   "source": [
    "import numpy as np\n",
    "def myMSE(model, iterator):\n",
    "    pred_list = np.array([])\n",
    "    real_list = np.array([])\n",
    "    id_list = np.array([])\n",
    "    \n",
    "#     Result_Dict = sorted(list(set(train['meanGrade'])))\n",
    "    \n",
    "    model.eval()\n",
    "    with torch.no_grad():\n",
    "        for batch in iterator:\n",
    "            predictions = model(batch.new).squeeze(1)\n",
    "            pred = np.array(predictions.data.tolist())\n",
    "            real = np.array(batch.meanGrade.data.tolist())\n",
    "            myid = np.array(batch.id.data.tolist())\n",
    "            real_list = np.append(real_list, real)\n",
    "            pred_list = np.append(pred_list, pred)\n",
    "            id_list = np.append(id_list, myid)\n",
    "\n",
    "    \n",
    "# #     csv['pred_label'] = pred_list.round(0).astype(int)\n",
    "#     csv['pred'] = [Result_Dict[i] for i in csv['pred_label']]\n",
    "\n",
    "\n",
    "    df = pd.DataFrame({'id':id_list, 'real':real_list, 'pred':pred_list})\n",
    "    rmse = np.sqrt(np.mean((df['real'] - df['pred'])**2))\n",
    "            \n",
    "    print(rmse)\n",
    "    return df"
   ]
  },
  {
   "cell_type": "markdown",
   "metadata": {},
   "source": [
    "# 测试最后一次的model"
   ]
  },
  {
   "cell_type": "code",
   "execution_count": 93,
   "metadata": {},
   "outputs": [
    {
     "name": "stdout",
     "output_type": "stream",
     "text": [
      "0.34131570232640285\n"
     ]
    }
   ],
   "source": [
    "df = myMSE(model, train_iterator)"
   ]
  },
  {
   "cell_type": "code",
   "execution_count": 94,
   "metadata": {},
   "outputs": [
    {
     "data": {
      "text/html": [
       "<div>\n",
       "<style scoped>\n",
       "    .dataframe tbody tr th:only-of-type {\n",
       "        vertical-align: middle;\n",
       "    }\n",
       "\n",
       "    .dataframe tbody tr th {\n",
       "        vertical-align: top;\n",
       "    }\n",
       "\n",
       "    .dataframe thead th {\n",
       "        text-align: right;\n",
       "    }\n",
       "</style>\n",
       "<table border=\"1\" class=\"dataframe\">\n",
       "  <thead>\n",
       "    <tr style=\"text-align: right;\">\n",
       "      <th></th>\n",
       "      <th>id</th>\n",
       "      <th>real</th>\n",
       "      <th>pred</th>\n",
       "    </tr>\n",
       "  </thead>\n",
       "  <tbody>\n",
       "    <tr>\n",
       "      <td>7651</td>\n",
       "      <td>1591.0</td>\n",
       "      <td>0.0</td>\n",
       "      <td>0.219359</td>\n",
       "    </tr>\n",
       "    <tr>\n",
       "      <td>5312</td>\n",
       "      <td>3034.0</td>\n",
       "      <td>0.0</td>\n",
       "      <td>0.666898</td>\n",
       "    </tr>\n",
       "    <tr>\n",
       "      <td>1214</td>\n",
       "      <td>5077.0</td>\n",
       "      <td>0.0</td>\n",
       "      <td>0.393513</td>\n",
       "    </tr>\n",
       "    <tr>\n",
       "      <td>5296</td>\n",
       "      <td>7204.0</td>\n",
       "      <td>0.0</td>\n",
       "      <td>1.059074</td>\n",
       "    </tr>\n",
       "    <tr>\n",
       "      <td>5290</td>\n",
       "      <td>4912.0</td>\n",
       "      <td>0.0</td>\n",
       "      <td>0.257849</td>\n",
       "    </tr>\n",
       "    <tr>\n",
       "      <td>...</td>\n",
       "      <td>...</td>\n",
       "      <td>...</td>\n",
       "      <td>...</td>\n",
       "    </tr>\n",
       "    <tr>\n",
       "      <td>7369</td>\n",
       "      <td>1664.0</td>\n",
       "      <td>2.8</td>\n",
       "      <td>1.849426</td>\n",
       "    </tr>\n",
       "    <tr>\n",
       "      <td>1469</td>\n",
       "      <td>7255.0</td>\n",
       "      <td>2.8</td>\n",
       "      <td>1.812325</td>\n",
       "    </tr>\n",
       "    <tr>\n",
       "      <td>1653</td>\n",
       "      <td>3500.0</td>\n",
       "      <td>2.8</td>\n",
       "      <td>1.941720</td>\n",
       "    </tr>\n",
       "    <tr>\n",
       "      <td>1561</td>\n",
       "      <td>1229.0</td>\n",
       "      <td>3.0</td>\n",
       "      <td>1.937473</td>\n",
       "    </tr>\n",
       "    <tr>\n",
       "      <td>7614</td>\n",
       "      <td>3404.0</td>\n",
       "      <td>3.0</td>\n",
       "      <td>1.737065</td>\n",
       "    </tr>\n",
       "  </tbody>\n",
       "</table>\n",
       "<p>7652 rows × 3 columns</p>\n",
       "</div>"
      ],
      "text/plain": [
       "          id  real      pred\n",
       "7651  1591.0   0.0  0.219359\n",
       "5312  3034.0   0.0  0.666898\n",
       "1214  5077.0   0.0  0.393513\n",
       "5296  7204.0   0.0  1.059074\n",
       "5290  4912.0   0.0  0.257849\n",
       "...      ...   ...       ...\n",
       "7369  1664.0   2.8  1.849426\n",
       "1469  7255.0   2.8  1.812325\n",
       "1653  3500.0   2.8  1.941720\n",
       "1561  1229.0   3.0  1.937473\n",
       "7614  3404.0   3.0  1.737065\n",
       "\n",
       "[7652 rows x 3 columns]"
      ]
     },
     "execution_count": 94,
     "metadata": {},
     "output_type": "execute_result"
    }
   ],
   "source": [
    "df.sort_values(by=['real'])"
   ]
  },
  {
   "cell_type": "code",
   "execution_count": 95,
   "metadata": {},
   "outputs": [
    {
     "name": "stdout",
     "output_type": "stream",
     "text": [
      "0.6091482274242547\n"
     ]
    }
   ],
   "source": [
    "df = myMSE(model, valid_iterator)"
   ]
  },
  {
   "cell_type": "code",
   "execution_count": 96,
   "metadata": {},
   "outputs": [
    {
     "data": {
      "text/html": [
       "<div>\n",
       "<style scoped>\n",
       "    .dataframe tbody tr th:only-of-type {\n",
       "        vertical-align: middle;\n",
       "    }\n",
       "\n",
       "    .dataframe tbody tr th {\n",
       "        vertical-align: top;\n",
       "    }\n",
       "\n",
       "    .dataframe thead th {\n",
       "        text-align: right;\n",
       "    }\n",
       "</style>\n",
       "<table border=\"1\" class=\"dataframe\">\n",
       "  <thead>\n",
       "    <tr style=\"text-align: right;\">\n",
       "      <th></th>\n",
       "      <th>id</th>\n",
       "      <th>real</th>\n",
       "      <th>pred</th>\n",
       "    </tr>\n",
       "  </thead>\n",
       "  <tbody>\n",
       "    <tr>\n",
       "      <td>724</td>\n",
       "      <td>12928.0</td>\n",
       "      <td>0.0</td>\n",
       "      <td>0.598634</td>\n",
       "    </tr>\n",
       "    <tr>\n",
       "      <td>101</td>\n",
       "      <td>4984.0</td>\n",
       "      <td>0.0</td>\n",
       "      <td>0.336657</td>\n",
       "    </tr>\n",
       "    <tr>\n",
       "      <td>313</td>\n",
       "      <td>5169.0</td>\n",
       "      <td>0.0</td>\n",
       "      <td>1.125902</td>\n",
       "    </tr>\n",
       "    <tr>\n",
       "      <td>647</td>\n",
       "      <td>8479.0</td>\n",
       "      <td>0.0</td>\n",
       "      <td>1.180478</td>\n",
       "    </tr>\n",
       "    <tr>\n",
       "      <td>320</td>\n",
       "      <td>14376.0</td>\n",
       "      <td>0.0</td>\n",
       "      <td>0.377735</td>\n",
       "    </tr>\n",
       "    <tr>\n",
       "      <td>...</td>\n",
       "      <td>...</td>\n",
       "      <td>...</td>\n",
       "      <td>...</td>\n",
       "    </tr>\n",
       "    <tr>\n",
       "      <td>575</td>\n",
       "      <td>4142.0</td>\n",
       "      <td>2.6</td>\n",
       "      <td>1.768698</td>\n",
       "    </tr>\n",
       "    <tr>\n",
       "      <td>452</td>\n",
       "      <td>9899.0</td>\n",
       "      <td>2.6</td>\n",
       "      <td>1.111197</td>\n",
       "    </tr>\n",
       "    <tr>\n",
       "      <td>327</td>\n",
       "      <td>7693.0</td>\n",
       "      <td>2.6</td>\n",
       "      <td>1.365898</td>\n",
       "    </tr>\n",
       "    <tr>\n",
       "      <td>695</td>\n",
       "      <td>11170.0</td>\n",
       "      <td>2.8</td>\n",
       "      <td>1.242616</td>\n",
       "    </tr>\n",
       "    <tr>\n",
       "      <td>894</td>\n",
       "      <td>2409.0</td>\n",
       "      <td>2.8</td>\n",
       "      <td>1.226394</td>\n",
       "    </tr>\n",
       "  </tbody>\n",
       "</table>\n",
       "<p>1000 rows × 3 columns</p>\n",
       "</div>"
      ],
      "text/plain": [
       "          id  real      pred\n",
       "724  12928.0   0.0  0.598634\n",
       "101   4984.0   0.0  0.336657\n",
       "313   5169.0   0.0  1.125902\n",
       "647   8479.0   0.0  1.180478\n",
       "320  14376.0   0.0  0.377735\n",
       "..       ...   ...       ...\n",
       "575   4142.0   2.6  1.768698\n",
       "452   9899.0   2.6  1.111197\n",
       "327   7693.0   2.6  1.365898\n",
       "695  11170.0   2.8  1.242616\n",
       "894   2409.0   2.8  1.226394\n",
       "\n",
       "[1000 rows x 3 columns]"
      ]
     },
     "execution_count": 96,
     "metadata": {},
     "output_type": "execute_result"
    }
   ],
   "source": [
    "df.sort_values(by=['real'])"
   ]
  },
  {
   "cell_type": "markdown",
   "metadata": {},
   "source": [
    "# 测试 best的model"
   ]
  },
  {
   "cell_type": "code",
   "execution_count": 97,
   "metadata": {},
   "outputs": [
    {
     "name": "stdout",
     "output_type": "stream",
     "text": [
      "0.3805651567891106\n"
     ]
    }
   ],
   "source": [
    "model.load_state_dict(torch.load(\"lstm-model.pth\"))\n",
    "df = myMSE(model, train_iterator)"
   ]
  },
  {
   "cell_type": "code",
   "execution_count": 98,
   "metadata": {},
   "outputs": [
    {
     "data": {
      "text/html": [
       "<div>\n",
       "<style scoped>\n",
       "    .dataframe tbody tr th:only-of-type {\n",
       "        vertical-align: middle;\n",
       "    }\n",
       "\n",
       "    .dataframe tbody tr th {\n",
       "        vertical-align: top;\n",
       "    }\n",
       "\n",
       "    .dataframe thead th {\n",
       "        text-align: right;\n",
       "    }\n",
       "</style>\n",
       "<table border=\"1\" class=\"dataframe\">\n",
       "  <thead>\n",
       "    <tr style=\"text-align: right;\">\n",
       "      <th></th>\n",
       "      <th>id</th>\n",
       "      <th>real</th>\n",
       "      <th>pred</th>\n",
       "    </tr>\n",
       "  </thead>\n",
       "  <tbody>\n",
       "    <tr>\n",
       "      <td>5974</td>\n",
       "      <td>5622.0</td>\n",
       "      <td>0.0</td>\n",
       "      <td>0.479883</td>\n",
       "    </tr>\n",
       "    <tr>\n",
       "      <td>1600</td>\n",
       "      <td>4123.0</td>\n",
       "      <td>0.0</td>\n",
       "      <td>0.266592</td>\n",
       "    </tr>\n",
       "    <tr>\n",
       "      <td>1606</td>\n",
       "      <td>1016.0</td>\n",
       "      <td>0.0</td>\n",
       "      <td>0.377563</td>\n",
       "    </tr>\n",
       "    <tr>\n",
       "      <td>5916</td>\n",
       "      <td>5879.0</td>\n",
       "      <td>0.0</td>\n",
       "      <td>0.602375</td>\n",
       "    </tr>\n",
       "    <tr>\n",
       "      <td>6850</td>\n",
       "      <td>5900.0</td>\n",
       "      <td>0.0</td>\n",
       "      <td>0.493271</td>\n",
       "    </tr>\n",
       "    <tr>\n",
       "      <td>...</td>\n",
       "      <td>...</td>\n",
       "      <td>...</td>\n",
       "      <td>...</td>\n",
       "    </tr>\n",
       "    <tr>\n",
       "      <td>4555</td>\n",
       "      <td>772.0</td>\n",
       "      <td>2.8</td>\n",
       "      <td>1.882243</td>\n",
       "    </tr>\n",
       "    <tr>\n",
       "      <td>6801</td>\n",
       "      <td>1664.0</td>\n",
       "      <td>2.8</td>\n",
       "      <td>1.615961</td>\n",
       "    </tr>\n",
       "    <tr>\n",
       "      <td>4798</td>\n",
       "      <td>9703.0</td>\n",
       "      <td>2.8</td>\n",
       "      <td>1.551853</td>\n",
       "    </tr>\n",
       "    <tr>\n",
       "      <td>4836</td>\n",
       "      <td>1229.0</td>\n",
       "      <td>3.0</td>\n",
       "      <td>1.833558</td>\n",
       "    </tr>\n",
       "    <tr>\n",
       "      <td>2748</td>\n",
       "      <td>3404.0</td>\n",
       "      <td>3.0</td>\n",
       "      <td>1.461022</td>\n",
       "    </tr>\n",
       "  </tbody>\n",
       "</table>\n",
       "<p>7652 rows × 3 columns</p>\n",
       "</div>"
      ],
      "text/plain": [
       "          id  real      pred\n",
       "5974  5622.0   0.0  0.479883\n",
       "1600  4123.0   0.0  0.266592\n",
       "1606  1016.0   0.0  0.377563\n",
       "5916  5879.0   0.0  0.602375\n",
       "6850  5900.0   0.0  0.493271\n",
       "...      ...   ...       ...\n",
       "4555   772.0   2.8  1.882243\n",
       "6801  1664.0   2.8  1.615961\n",
       "4798  9703.0   2.8  1.551853\n",
       "4836  1229.0   3.0  1.833558\n",
       "2748  3404.0   3.0  1.461022\n",
       "\n",
       "[7652 rows x 3 columns]"
      ]
     },
     "execution_count": 98,
     "metadata": {},
     "output_type": "execute_result"
    }
   ],
   "source": [
    "df.sort_values(by=['real'])"
   ]
  },
  {
   "cell_type": "code",
   "execution_count": 99,
   "metadata": {},
   "outputs": [
    {
     "name": "stdout",
     "output_type": "stream",
     "text": [
      "0.5923695042997721\n"
     ]
    }
   ],
   "source": [
    "df = myMSE(model, valid_iterator)"
   ]
  },
  {
   "cell_type": "code",
   "execution_count": 100,
   "metadata": {},
   "outputs": [
    {
     "data": {
      "text/html": [
       "<div>\n",
       "<style scoped>\n",
       "    .dataframe tbody tr th:only-of-type {\n",
       "        vertical-align: middle;\n",
       "    }\n",
       "\n",
       "    .dataframe tbody tr th {\n",
       "        vertical-align: top;\n",
       "    }\n",
       "\n",
       "    .dataframe thead th {\n",
       "        text-align: right;\n",
       "    }\n",
       "</style>\n",
       "<table border=\"1\" class=\"dataframe\">\n",
       "  <thead>\n",
       "    <tr style=\"text-align: right;\">\n",
       "      <th></th>\n",
       "      <th>id</th>\n",
       "      <th>real</th>\n",
       "      <th>pred</th>\n",
       "    </tr>\n",
       "  </thead>\n",
       "  <tbody>\n",
       "    <tr>\n",
       "      <td>724</td>\n",
       "      <td>12928.0</td>\n",
       "      <td>0.0</td>\n",
       "      <td>0.598558</td>\n",
       "    </tr>\n",
       "    <tr>\n",
       "      <td>101</td>\n",
       "      <td>4984.0</td>\n",
       "      <td>0.0</td>\n",
       "      <td>0.382028</td>\n",
       "    </tr>\n",
       "    <tr>\n",
       "      <td>313</td>\n",
       "      <td>5169.0</td>\n",
       "      <td>0.0</td>\n",
       "      <td>1.107366</td>\n",
       "    </tr>\n",
       "    <tr>\n",
       "      <td>647</td>\n",
       "      <td>8479.0</td>\n",
       "      <td>0.0</td>\n",
       "      <td>1.149551</td>\n",
       "    </tr>\n",
       "    <tr>\n",
       "      <td>320</td>\n",
       "      <td>14376.0</td>\n",
       "      <td>0.0</td>\n",
       "      <td>0.473654</td>\n",
       "    </tr>\n",
       "    <tr>\n",
       "      <td>...</td>\n",
       "      <td>...</td>\n",
       "      <td>...</td>\n",
       "      <td>...</td>\n",
       "    </tr>\n",
       "    <tr>\n",
       "      <td>575</td>\n",
       "      <td>4142.0</td>\n",
       "      <td>2.6</td>\n",
       "      <td>1.480583</td>\n",
       "    </tr>\n",
       "    <tr>\n",
       "      <td>452</td>\n",
       "      <td>9899.0</td>\n",
       "      <td>2.6</td>\n",
       "      <td>1.114315</td>\n",
       "    </tr>\n",
       "    <tr>\n",
       "      <td>327</td>\n",
       "      <td>7693.0</td>\n",
       "      <td>2.6</td>\n",
       "      <td>1.272936</td>\n",
       "    </tr>\n",
       "    <tr>\n",
       "      <td>695</td>\n",
       "      <td>11170.0</td>\n",
       "      <td>2.8</td>\n",
       "      <td>1.191589</td>\n",
       "    </tr>\n",
       "    <tr>\n",
       "      <td>894</td>\n",
       "      <td>2409.0</td>\n",
       "      <td>2.8</td>\n",
       "      <td>1.285776</td>\n",
       "    </tr>\n",
       "  </tbody>\n",
       "</table>\n",
       "<p>1000 rows × 3 columns</p>\n",
       "</div>"
      ],
      "text/plain": [
       "          id  real      pred\n",
       "724  12928.0   0.0  0.598558\n",
       "101   4984.0   0.0  0.382028\n",
       "313   5169.0   0.0  1.107366\n",
       "647   8479.0   0.0  1.149551\n",
       "320  14376.0   0.0  0.473654\n",
       "..       ...   ...       ...\n",
       "575   4142.0   2.6  1.480583\n",
       "452   9899.0   2.6  1.114315\n",
       "327   7693.0   2.6  1.272936\n",
       "695  11170.0   2.8  1.191589\n",
       "894   2409.0   2.8  1.285776\n",
       "\n",
       "[1000 rows x 3 columns]"
      ]
     },
     "execution_count": 100,
     "metadata": {},
     "output_type": "execute_result"
    }
   ],
   "source": [
    "df.sort_values(by=['real'])"
   ]
  },
  {
   "cell_type": "code",
   "execution_count": 101,
   "metadata": {},
   "outputs": [
    {
     "name": "stdout",
     "output_type": "stream",
     "text": [
      "0.5962360053556518\n"
     ]
    }
   ],
   "source": [
    "df = myMSE(model, test_iterator)"
   ]
  },
  {
   "cell_type": "code",
   "execution_count": 103,
   "metadata": {},
   "outputs": [
    {
     "data": {
      "text/html": [
       "<div>\n",
       "<style scoped>\n",
       "    .dataframe tbody tr th:only-of-type {\n",
       "        vertical-align: middle;\n",
       "    }\n",
       "\n",
       "    .dataframe tbody tr th {\n",
       "        vertical-align: top;\n",
       "    }\n",
       "\n",
       "    .dataframe thead th {\n",
       "        text-align: right;\n",
       "    }\n",
       "</style>\n",
       "<table border=\"1\" class=\"dataframe\">\n",
       "  <thead>\n",
       "    <tr style=\"text-align: right;\">\n",
       "      <th></th>\n",
       "      <th>id</th>\n",
       "      <th>real</th>\n",
       "      <th>pred</th>\n",
       "    </tr>\n",
       "  </thead>\n",
       "  <tbody>\n",
       "    <tr>\n",
       "      <td>555</td>\n",
       "      <td>13902.0</td>\n",
       "      <td>0.2</td>\n",
       "      <td>0.130202</td>\n",
       "    </tr>\n",
       "    <tr>\n",
       "      <td>954</td>\n",
       "      <td>5802.0</td>\n",
       "      <td>0.4</td>\n",
       "      <td>0.152644</td>\n",
       "    </tr>\n",
       "    <tr>\n",
       "      <td>758</td>\n",
       "      <td>10344.0</td>\n",
       "      <td>0.4</td>\n",
       "      <td>0.205137</td>\n",
       "    </tr>\n",
       "    <tr>\n",
       "      <td>509</td>\n",
       "      <td>10884.0</td>\n",
       "      <td>0.6</td>\n",
       "      <td>0.219578</td>\n",
       "    </tr>\n",
       "    <tr>\n",
       "      <td>663</td>\n",
       "      <td>12378.0</td>\n",
       "      <td>1.8</td>\n",
       "      <td>0.253998</td>\n",
       "    </tr>\n",
       "    <tr>\n",
       "      <td>...</td>\n",
       "      <td>...</td>\n",
       "      <td>...</td>\n",
       "      <td>...</td>\n",
       "    </tr>\n",
       "    <tr>\n",
       "      <td>658</td>\n",
       "      <td>9500.0</td>\n",
       "      <td>1.8</td>\n",
       "      <td>1.797751</td>\n",
       "    </tr>\n",
       "    <tr>\n",
       "      <td>939</td>\n",
       "      <td>12863.0</td>\n",
       "      <td>1.4</td>\n",
       "      <td>1.802699</td>\n",
       "    </tr>\n",
       "    <tr>\n",
       "      <td>553</td>\n",
       "      <td>14526.0</td>\n",
       "      <td>1.2</td>\n",
       "      <td>1.803328</td>\n",
       "    </tr>\n",
       "    <tr>\n",
       "      <td>778</td>\n",
       "      <td>5550.0</td>\n",
       "      <td>0.6</td>\n",
       "      <td>1.808452</td>\n",
       "    </tr>\n",
       "    <tr>\n",
       "      <td>688</td>\n",
       "      <td>2011.0</td>\n",
       "      <td>2.0</td>\n",
       "      <td>1.883869</td>\n",
       "    </tr>\n",
       "  </tbody>\n",
       "</table>\n",
       "<p>1000 rows × 3 columns</p>\n",
       "</div>"
      ],
      "text/plain": [
       "          id  real      pred\n",
       "555  13902.0   0.2  0.130202\n",
       "954   5802.0   0.4  0.152644\n",
       "758  10344.0   0.4  0.205137\n",
       "509  10884.0   0.6  0.219578\n",
       "663  12378.0   1.8  0.253998\n",
       "..       ...   ...       ...\n",
       "658   9500.0   1.8  1.797751\n",
       "939  12863.0   1.4  1.802699\n",
       "553  14526.0   1.2  1.803328\n",
       "778   5550.0   0.6  1.808452\n",
       "688   2011.0   2.0  1.883869\n",
       "\n",
       "[1000 rows x 3 columns]"
      ]
     },
     "execution_count": 103,
     "metadata": {},
     "output_type": "execute_result"
    }
   ],
   "source": [
    "df.sort_values(by=['pred'])"
   ]
  },
  {
   "cell_type": "code",
   "execution_count": 70,
   "metadata": {},
   "outputs": [],
   "source": [
    "def getFinal_Valid(model, iterator):\n",
    "    pred_list = np.array([])\n",
    "    id_list = np.array([])\n",
    "    \n",
    "    \n",
    "    model.eval()\n",
    "    with torch.no_grad():\n",
    "        for batch in iterator:\n",
    "            predictions = model(batch.new).squeeze(1)\n",
    "            pred = np.array(predictions.data.tolist())\n",
    "            myid = np.array(batch.id.data.tolist())\n",
    "            pred_list = np.append(pred_list, pred)\n",
    "            id_list = np.append(id_list, myid)\n",
    "\n",
    "    df = pd.DataFrame({'id':id_list,'pred':pred_list})\n",
    "            \n",
    "    return df"
   ]
  },
  {
   "cell_type": "code",
   "execution_count": 71,
   "metadata": {},
   "outputs": [
    {
     "data": {
      "text/html": [
       "<div>\n",
       "<style scoped>\n",
       "    .dataframe tbody tr th:only-of-type {\n",
       "        vertical-align: middle;\n",
       "    }\n",
       "\n",
       "    .dataframe tbody tr th {\n",
       "        vertical-align: top;\n",
       "    }\n",
       "\n",
       "    .dataframe thead th {\n",
       "        text-align: right;\n",
       "    }\n",
       "</style>\n",
       "<table border=\"1\" class=\"dataframe\">\n",
       "  <thead>\n",
       "    <tr style=\"text-align: right;\">\n",
       "      <th></th>\n",
       "      <th>id</th>\n",
       "      <th>pred</th>\n",
       "    </tr>\n",
       "  </thead>\n",
       "  <tbody>\n",
       "    <tr>\n",
       "      <td>1938</td>\n",
       "      <td>4</td>\n",
       "      <td>1.092751</td>\n",
       "    </tr>\n",
       "    <tr>\n",
       "      <td>940</td>\n",
       "      <td>13</td>\n",
       "      <td>1.099297</td>\n",
       "    </tr>\n",
       "    <tr>\n",
       "      <td>723</td>\n",
       "      <td>15</td>\n",
       "      <td>1.059714</td>\n",
       "    </tr>\n",
       "    <tr>\n",
       "      <td>2237</td>\n",
       "      <td>25</td>\n",
       "      <td>1.071770</td>\n",
       "    </tr>\n",
       "    <tr>\n",
       "      <td>436</td>\n",
       "      <td>30</td>\n",
       "      <td>0.852402</td>\n",
       "    </tr>\n",
       "    <tr>\n",
       "      <td>...</td>\n",
       "      <td>...</td>\n",
       "      <td>...</td>\n",
       "    </tr>\n",
       "    <tr>\n",
       "      <td>1866</td>\n",
       "      <td>15084</td>\n",
       "      <td>0.931598</td>\n",
       "    </tr>\n",
       "    <tr>\n",
       "      <td>71</td>\n",
       "      <td>15086</td>\n",
       "      <td>0.508013</td>\n",
       "    </tr>\n",
       "    <tr>\n",
       "      <td>590</td>\n",
       "      <td>15091</td>\n",
       "      <td>1.082323</td>\n",
       "    </tr>\n",
       "    <tr>\n",
       "      <td>1278</td>\n",
       "      <td>15093</td>\n",
       "      <td>0.532556</td>\n",
       "    </tr>\n",
       "    <tr>\n",
       "      <td>504</td>\n",
       "      <td>15094</td>\n",
       "      <td>0.705403</td>\n",
       "    </tr>\n",
       "  </tbody>\n",
       "</table>\n",
       "<p>2419 rows × 2 columns</p>\n",
       "</div>"
      ],
      "text/plain": [
       "         id      pred\n",
       "1938      4  1.092751\n",
       "940      13  1.099297\n",
       "723      15  1.059714\n",
       "2237     25  1.071770\n",
       "436      30  0.852402\n",
       "...     ...       ...\n",
       "1866  15084  0.931598\n",
       "71    15086  0.508013\n",
       "590   15091  1.082323\n",
       "1278  15093  0.532556\n",
       "504   15094  0.705403\n",
       "\n",
       "[2419 rows x 2 columns]"
      ]
     },
     "execution_count": 71,
     "metadata": {},
     "output_type": "execute_result"
    }
   ],
   "source": [
    "df = getFinal_Valid(model, final_valid_iterator)\n",
    "df['id'] = df['id'].round(0).astype(int)\n",
    "df.sort_values(by=['id'])"
   ]
  },
  {
   "cell_type": "code",
   "execution_count": 72,
   "metadata": {},
   "outputs": [
    {
     "data": {
      "text/html": [
       "<div>\n",
       "<style scoped>\n",
       "    .dataframe tbody tr th:only-of-type {\n",
       "        vertical-align: middle;\n",
       "    }\n",
       "\n",
       "    .dataframe tbody tr th {\n",
       "        vertical-align: top;\n",
       "    }\n",
       "\n",
       "    .dataframe thead th {\n",
       "        text-align: right;\n",
       "    }\n",
       "</style>\n",
       "<table border=\"1\" class=\"dataframe\">\n",
       "  <thead>\n",
       "    <tr style=\"text-align: right;\">\n",
       "      <th></th>\n",
       "      <th>id</th>\n",
       "      <th>pred</th>\n",
       "    </tr>\n",
       "  </thead>\n",
       "  <tbody>\n",
       "    <tr>\n",
       "      <td>1938</td>\n",
       "      <td>4</td>\n",
       "      <td>1.092751</td>\n",
       "    </tr>\n",
       "    <tr>\n",
       "      <td>940</td>\n",
       "      <td>13</td>\n",
       "      <td>1.099297</td>\n",
       "    </tr>\n",
       "    <tr>\n",
       "      <td>723</td>\n",
       "      <td>15</td>\n",
       "      <td>1.059714</td>\n",
       "    </tr>\n",
       "    <tr>\n",
       "      <td>2237</td>\n",
       "      <td>25</td>\n",
       "      <td>1.071770</td>\n",
       "    </tr>\n",
       "    <tr>\n",
       "      <td>436</td>\n",
       "      <td>30</td>\n",
       "      <td>0.852402</td>\n",
       "    </tr>\n",
       "    <tr>\n",
       "      <td>...</td>\n",
       "      <td>...</td>\n",
       "      <td>...</td>\n",
       "    </tr>\n",
       "    <tr>\n",
       "      <td>1866</td>\n",
       "      <td>15084</td>\n",
       "      <td>0.931598</td>\n",
       "    </tr>\n",
       "    <tr>\n",
       "      <td>71</td>\n",
       "      <td>15086</td>\n",
       "      <td>0.508013</td>\n",
       "    </tr>\n",
       "    <tr>\n",
       "      <td>590</td>\n",
       "      <td>15091</td>\n",
       "      <td>1.082323</td>\n",
       "    </tr>\n",
       "    <tr>\n",
       "      <td>1278</td>\n",
       "      <td>15093</td>\n",
       "      <td>0.532556</td>\n",
       "    </tr>\n",
       "    <tr>\n",
       "      <td>504</td>\n",
       "      <td>15094</td>\n",
       "      <td>0.705403</td>\n",
       "    </tr>\n",
       "  </tbody>\n",
       "</table>\n",
       "<p>2419 rows × 2 columns</p>\n",
       "</div>"
      ],
      "text/plain": [
       "         id      pred\n",
       "1938      4  1.092751\n",
       "940      13  1.099297\n",
       "723      15  1.059714\n",
       "2237     25  1.071770\n",
       "436      30  0.852402\n",
       "...     ...       ...\n",
       "1866  15084  0.931598\n",
       "71    15086  0.508013\n",
       "590   15091  1.082323\n",
       "1278  15093  0.532556\n",
       "504   15094  0.705403\n",
       "\n",
       "[2419 rows x 2 columns]"
      ]
     },
     "execution_count": 72,
     "metadata": {},
     "output_type": "execute_result"
    }
   ],
   "source": [
    "data = pd.merge(df,final_valid)\n",
    "data = data[['id','pred']] \n",
    "data.sort_values(by=['id'])"
   ]
  },
  {
   "cell_type": "code",
   "execution_count": 74,
   "metadata": {},
   "outputs": [],
   "source": [
    "out_loc = '../output/task-1-output.csv'\n",
    "data.to_csv(out_loc, index=False)"
   ]
  }
 ],
 "metadata": {
  "kernelspec": {
   "display_name": "Python 3",
   "language": "python",
   "name": "python3"
  },
  "language_info": {
   "codemirror_mode": {
    "name": "ipython",
    "version": 3
   },
   "file_extension": ".py",
   "mimetype": "text/x-python",
   "name": "python",
   "nbconvert_exporter": "python",
   "pygments_lexer": "ipython3",
   "version": "3.7.5"
  }
 },
 "nbformat": 4,
 "nbformat_minor": 2
}
