{
 "cells": [
  {
   "cell_type": "code",
   "execution_count": 39,
   "metadata": {
    "collapsed": false
   },
   "outputs": [],
   "source": [
    "import torch\n",
    "import pandas as pd\n",
    "from torchtext import data\n",
    "from torchtext.vocab import Vectors\n",
    "from torch.nn import init\n",
    "from tqdm import tqdm\n",
    "from torchtext.vocab import GloVe\n",
    "from torchtext import data"
   ]
  },
  {
   "cell_type": "markdown",
   "metadata": {},
   "source": [
    "# data "
   ]
  },
  {
   "cell_type": "markdown",
   "metadata": {},
   "source": [
    "### my dataset "
   ]
  },
  {
   "cell_type": "code",
   "execution_count": 40,
   "metadata": {
    "collapsed": true
   },
   "outputs": [],
   "source": [
    "def get_dataset(csv_data, id_field, text_field, label_field, is_final_valid = False):\n",
    "    fields = [('id', id_field), ('new', text_field), ('meanGrade', label_field)]\n",
    "    fields2 = [('id', id_field), ('new', text_field)]\n",
    "    examples = []\n",
    "    if is_final_valid:\n",
    "        for myid, text in tqdm(zip(csv_data['id'], csv_data['new'])):\n",
    "            examples.append(data.Example.fromlist([myid, text], fields2))\n",
    "        return examples, fields2\n",
    "    else:\n",
    "        for myid, text, label in tqdm(zip(csv_data['id'], csv_data['new'], csv_data['meanGrade'])):\n",
    "            examples.append(data.Example.fromlist([myid, text, label], fields))\n",
    "        return examples, fields"
   ]
  },
  {
   "cell_type": "markdown",
   "metadata": {},
   "source": [
    "### load data"
   ]
  },
  {
   "cell_type": "code",
   "execution_count": 41,
   "metadata": {
    "collapsed": false
   },
   "outputs": [],
   "source": [
    "#tokenize = lambda x: x.split()\n",
    "TEXT = data.RawField()\n",
    "LABEL = data.LabelField(use_vocab=False, dtype=torch.float)\n",
    "ID = data.LabelField(use_vocab=False)\n",
    "\n",
    "train_path = \"data/task-1/train2.csv\"\n",
    "final_valid_path = \"data/task-1/dev2.csv\"\n",
    "    \n",
    "df = pd.read_csv(train_path)\n",
    "final_valid = pd.read_csv(final_valid_path)\n",
    "\n",
    "test = df[-1000:]\n",
    "test = test.reset_index(drop=True)\n",
    "train = df[:len(df)-1000]\n",
    "valid = train[-1000:]\n",
    "valid = valid.reset_index(drop=True)\n",
    "train = train[:len(train)-1000]"
   ]
  },
  {
   "cell_type": "markdown",
   "metadata": {},
   "source": [
    "### split data "
   ]
  },
  {
   "cell_type": "code",
   "execution_count": 42,
   "metadata": {
    "collapsed": false
   },
   "outputs": [
    {
     "name": "stderr",
     "output_type": "stream",
     "text": [
      "7652it [00:00, 207245.16it/s]\n",
      "1000it [00:00, 7881.64it/s]\n",
      "1000it [00:00, 224992.17it/s]\n",
      "2419it [00:00, 287227.42it/s]"
     ]
    },
    {
     "name": "stdout",
     "output_type": "stream",
     "text": [
      "Number of training examples: 7652\n",
      "Number of validation examples: 1000\n",
      "Number of testing examples: 1000\n",
      "Number of final_valid examples: 2419\n"
     ]
    },
    {
     "name": "stderr",
     "output_type": "stream",
     "text": [
      "\n"
     ]
    }
   ],
   "source": [
    "train_examples, train_fields = get_dataset(train, ID, TEXT, LABEL)\n",
    "valid_examples, valid_fields = get_dataset(valid, ID, TEXT, LABEL)\n",
    "# test_examples, test_fields = get_dataset(test, TEXT, None, True)\n",
    "test_examples, test_fields = get_dataset(test, ID, TEXT, LABEL)\n",
    "final_valid_examples, final_valid_fields = get_dataset(final_valid, ID, TEXT, LABEL, True)\n",
    "\n",
    "\n",
    "train_data = data.Dataset(train_examples, train_fields)\n",
    "valid_data = data.Dataset(valid_examples, valid_fields)\n",
    "test_data = data.Dataset(test_examples, test_fields)\n",
    "final_valid_data = data.Dataset(final_valid_examples, final_valid_fields)\n",
    "\n",
    "print(f'Number of training examples: {len(train_data)}')\n",
    "print(f'Number of validation examples: {len(valid_data)}')\n",
    "print(f'Number of testing examples: {len(test_data)}')\n",
    "print(f'Number of final_valid examples: {len(final_valid_data)}')"
   ]
  },
  {
   "cell_type": "markdown",
   "metadata": {},
   "source": [
    "### import Glove"
   ]
  },
  {
   "cell_type": "code",
   "execution_count": 43,
   "metadata": {
    "collapsed": false
   },
   "outputs": [
    {
     "name": "stdout",
     "output_type": "stream",
     "text": [
      "Unique tokens in LABEL vocabulary: 33\n"
     ]
    }
   ],
   "source": [
    "# TEXT.build_vocab(train_data,vectors=\"glove.840B.300d\", unk_init=torch.Tensor.normal_) \n",
    "# TEXT.build_vocab(train_data) \n",
    "LABEL.build_vocab(train_data)\n",
    "# print(f\"Unique tokens in TEXT vocabulary: {len(TEXT.vocab)}\")\n",
    "print(f\"Unique tokens in LABEL vocabulary: {len(LABEL.vocab)}\")\n"
   ]
  },
  {
   "cell_type": "code",
   "execution_count": 44,
   "metadata": {
    "collapsed": false
   },
   "outputs": [],
   "source": [
    "# print(TEXT.vocab.freqs.most_common(20))\n",
    "# print(TEXT.vocab.itos[3])\n",
    "# print(LABEL.vocab.freqs.most_common(40))"
   ]
  },
  {
   "cell_type": "markdown",
   "metadata": {},
   "source": [
    "### baches example"
   ]
  },
  {
   "cell_type": "code",
   "execution_count": 45,
   "metadata": {
    "collapsed": true
   },
   "outputs": [],
   "source": [
    "BATCH_SIZE = 32\n",
    "\n",
    "device = torch.device('cuda' if torch.cuda.is_available() else 'cpu')\n",
    "\n",
    "train_iterator, valid_iterator, test_iterator, final_valid_iterator = data.BucketIterator.splits(\n",
    "    (train_data, valid_data, test_data, final_valid_data), \n",
    "    batch_size=BATCH_SIZE,\n",
    "    sort_key=lambda x: len(x.new), # the BucketIterator needs to be told what function it should use to group the data.\n",
    "    sort_within_batch=False,\n",
    "    device=device)"
   ]
  },
  {
   "cell_type": "markdown",
   "metadata": {},
   "source": [
    "# Elmo_BiLSTM "
   ]
  },
  {
   "cell_type": "raw",
   "metadata": {},
   "source": [
    "it = iter(train_iterator)\n",
    "batch = next(it)\n",
    "batch.new\n",
    "\n",
    "from allennlp.modules.elmo import Elmo, batch_to_ids\n",
    "options_file = \"https://allennlp.s3.amazonaws.com/models/elmo/2x4096_512_2048cnn_2xhighway/elmo_2x4096_512_2048cnn_2xhighway_options.json\"\n",
    "weight_file = \"https://allennlp.s3.amazonaws.com/models/elmo/2x4096_512_2048cnn_2xhighway/elmo_2x4096_512_2048cnn_2xhighway_weights.hdf5\"\n",
    "\n",
    "elmo = Elmo(options_file, weight_file, 2, dropout=0)\n",
    "\n",
    "sentences = [sen.split()for sen in batch.new]\n",
    "character_ids = batch_to_ids(sentences)\n",
    "embeddings = elmo(character_ids)\n",
    "embedding = embeddings['elmo_representations'][0].permute(1,0,2)"
   ]
  },
  {
   "cell_type": "code",
   "execution_count": 59,
   "metadata": {
    "collapsed": true
   },
   "outputs": [],
   "source": [
    "import torch.nn as nn\n",
    "import torch.nn.functional as F\n",
    "\n",
    "class BiLSTMModel(nn.Module):\n",
    "    def __init__(self, embedding_dim, output_dim, hidden_dim, dropout):\n",
    "        super().__init__()\n",
    "        self.lstm = nn.LSTM(embedding_dim, hidden_dim, bidirectional=True) \n",
    "        self.fc = nn.Linear(hidden_dim*2, output_dim)\n",
    "        self.dropout = nn.Dropout(dropout)\n",
    "        \n",
    "    def forward(self, embedding):\n",
    "        embedding = self.dropout(embedding) \n",
    "        # embedding[sent_len, betch_size, embedding_dim]\n",
    "        \n",
    "        # text[sent_len, batch_size]\n",
    "        # embedded = self.embedding()\n",
    "        # embeded[sent_len, batch_size, embedding_dim]\n",
    "        output, (hidden, cell) = self.lstm(embedding) \n",
    "        hidden = self.dropout(torch.cat((hidden[-2], hidden[-1]), dim=1))\n",
    "        # hidden[batch_size, hidden_dim * num_directions]\n",
    "        return self.fc(hidden.squeeze(0))"
   ]
  },
  {
   "cell_type": "markdown",
   "metadata": {},
   "source": [
    "# training"
   ]
  },
  {
   "cell_type": "markdown",
   "metadata": {},
   "source": [
    "## parameters"
   ]
  },
  {
   "cell_type": "code",
   "execution_count": 60,
   "metadata": {
    "collapsed": false
   },
   "outputs": [],
   "source": [
    "EMBEDDING_DIM = 1024\n",
    "OUTPUT_DIM = 1 # Classification: num_labels/Regression: 1\n",
    "HIDDEN_SIZE = 16 \n",
    "DROPOUT = 0.5 \n",
    "\n",
    "model = BiLSTMModel(EMBEDDING_DIM, OUTPUT_DIM, HIDDEN_SIZE, DROPOUT)"
   ]
  },
  {
   "cell_type": "code",
   "execution_count": 61,
   "metadata": {
    "collapsed": false
   },
   "outputs": [
    {
     "name": "stdout",
     "output_type": "stream",
     "text": [
      "The model has 133,409 trainable parameters\n"
     ]
    }
   ],
   "source": [
    "def count_parameters(model):\n",
    "    return sum(p.numel() for p in model.parameters() if p.requires_grad)\n",
    "\n",
    "print(f'The model has {count_parameters(model):,} trainable parameters')"
   ]
  },
  {
   "cell_type": "raw",
   "metadata": {},
   "source": [
    "pretrained_embeddings = TEXT.vocab.vectors\n",
    "model.embedding.weight.data.copy_(pretrained_embeddings)\n",
    "model.embedding.weight.requires_grad = False"
   ]
  },
  {
   "cell_type": "raw",
   "metadata": {},
   "source": [
    "UNK_IDX = TEXT.vocab.stoi[TEXT.unk_token]\n",
    "\n",
    "model.embedding.weight.data[UNK_IDX] = torch.zeros(EMBEDDING_DIM)\n",
    "model.embedding.weight.data[PAD_IDX] = torch.zeros(EMBEDDING_DIM)"
   ]
  },
  {
   "cell_type": "markdown",
   "metadata": {},
   "source": [
    "## training"
   ]
  },
  {
   "cell_type": "code",
   "execution_count": 62,
   "metadata": {
    "collapsed": true
   },
   "outputs": [],
   "source": [
    "import torch.optim as optim\n",
    "\n",
    "optimizer = optim.Adam(model.parameters())\n",
    "criterion = nn.MSELoss(reduction='sum') # TODO\n",
    "model = model.to(device)\n",
    "criterion = criterion.to(device)"
   ]
  },
  {
   "cell_type": "markdown",
   "metadata": {},
   "source": [
    "### Elmo"
   ]
  },
  {
   "cell_type": "code",
   "execution_count": 63,
   "metadata": {
    "collapsed": false
   },
   "outputs": [],
   "source": [
    "from allennlp.modules.elmo import Elmo, batch_to_ids\n",
    "options_file = \"https://allennlp.s3.amazonaws.com/models/elmo/2x4096_512_2048cnn_2xhighway/elmo_2x4096_512_2048cnn_2xhighway_options.json\"\n",
    "weight_file = \"https://allennlp.s3.amazonaws.com/models/elmo/2x4096_512_2048cnn_2xhighway/elmo_2x4096_512_2048cnn_2xhighway_weights.hdf5\"\n",
    "\n",
    "elmo = Elmo(options_file, weight_file, 2, dropout=0)\n",
    "\n",
    "def get_elmo_embeddings(batch):\n",
    "    sentences = [sen.split()for sen in batch]\n",
    "    character_ids = batch_to_ids(sentences)\n",
    "    embeddings = elmo(character_ids)\n",
    "    embedding = embeddings['elmo_representations'][0].permute(1,0,2)\n",
    "    ### embedding [sent_len, batch_size, embed_dim]\n",
    "    return embedding\n",
    "    "
   ]
  },
  {
   "cell_type": "code",
   "execution_count": 64,
   "metadata": {
    "collapsed": true
   },
   "outputs": [],
   "source": [
    "def trainModel(model, iterator, optimizer, criterion):\n",
    "    epoch_loss = 0\n",
    "    model.train()\n",
    "    \n",
    "    for batch in iterator:\n",
    "        optimizer.zero_grad()\n",
    "        embeddings = get_elmo_embeddings(batch.new)\n",
    "        predictions = model(embeddings).squeeze(1)\n",
    "        loss = criterion(predictions, batch.meanGrade)\n",
    "        loss.backward()\n",
    "        optimizer.step()\n",
    "        \n",
    "        epoch_loss += loss.item()\n",
    "        \n",
    "        \n",
    "    return epoch_loss / len(iterator)\n",
    "        "
   ]
  },
  {
   "cell_type": "code",
   "execution_count": 65,
   "metadata": {
    "collapsed": true
   },
   "outputs": [],
   "source": [
    "def evaluate(model, iterator, criterion):\n",
    "    epoch_loss = 0\n",
    "    \n",
    "    model.eval()\n",
    "    with torch.no_grad():\n",
    "        for batch in iterator:\n",
    "            embeddings = get_elmo_embeddings(batch.new)\n",
    "            predictions = model(embeddings).squeeze(1)\n",
    "            loss = criterion(predictions, batch.meanGrade)\n",
    "        \n",
    "            epoch_loss += loss.item()\n",
    "            \n",
    "    return epoch_loss / len(iterator)"
   ]
  },
  {
   "cell_type": "code",
   "execution_count": 66,
   "metadata": {
    "collapsed": false
   },
   "outputs": [
    {
     "name": "stdout",
     "output_type": "stream",
     "text": [
      "save\n",
      "Epoch: 01\n",
      "\tTrain Loss: 12.229\n",
      "\tValid Loss: 11.053\n",
      "save\n",
      "Epoch: 02\n",
      "\tTrain Loss: 11.207\n",
      "\tValid Loss: 10.730\n",
      "save\n",
      "Epoch: 03\n",
      "\tTrain Loss: 10.704\n",
      "\tValid Loss: 10.516\n",
      "save\n",
      "Epoch: 04\n",
      "\tTrain Loss: 10.190\n",
      "\tValid Loss: 10.205\n",
      "Epoch: 05\n",
      "\tTrain Loss: 9.744\n",
      "\tValid Loss: 10.747\n",
      "save\n",
      "Epoch: 06\n",
      "\tTrain Loss: 9.601\n",
      "\tValid Loss: 10.102\n",
      "Epoch: 07\n",
      "\tTrain Loss: 9.250\n",
      "\tValid Loss: 10.124\n",
      "save\n",
      "Epoch: 08\n",
      "\tTrain Loss: 9.022\n",
      "\tValid Loss: 9.897\n",
      "Epoch: 09\n",
      "\tTrain Loss: 8.791\n",
      "\tValid Loss: 10.402\n",
      "Epoch: 10\n",
      "\tTrain Loss: 8.470\n",
      "\tValid Loss: 10.549\n"
     ]
    }
   ],
   "source": [
    "N_EPOCHS = 10\n",
    "\n",
    "best_valid_loss = float('inf')\n",
    "\n",
    "for epoch in range(N_EPOCHS):\n",
    "    trainModel(model, train_iterator, optimizer, criterion)\n",
    "    \n",
    "    train_loss = trainModel(model, train_iterator, optimizer, criterion)\n",
    "    valid_loss = evaluate(model, valid_iterator, criterion)\n",
    "    \n",
    "    if valid_loss < best_valid_loss:\n",
    "        best_valid_loss = valid_loss\n",
    "        torch.save(model.state_dict(), 'lstm-model.pth')\n",
    "        print(\"save\")\n",
    "    \n",
    "    print(f'Epoch: {epoch+1:02}')\n",
    "    print(f'\\tTrain Loss: {train_loss:.3f}')\n",
    "    print(f'\\tValid Loss: {valid_loss:.3f}')\n",
    "    \n",
    "    "
   ]
  },
  {
   "cell_type": "markdown",
   "metadata": {},
   "source": [
    "# Evaluation (MSE)"
   ]
  },
  {
   "cell_type": "code",
   "execution_count": 69,
   "metadata": {
    "collapsed": true
   },
   "outputs": [],
   "source": [
    "import numpy as np\n",
    "def myMSE(model, iterator):\n",
    "    pred_list = np.array([])\n",
    "    real_list = np.array([])\n",
    "    id_list = np.array([])\n",
    "    \n",
    "#     Result_Dict = sorted(list(set(train['meanGrade'])))\n",
    "    \n",
    "    model.eval()\n",
    "    with torch.no_grad():\n",
    "        for batch in iterator:\n",
    "            embeddings = get_elmo_embeddings(batch.new)\n",
    "            predictions = model(embeddings).squeeze(1)\n",
    "            pred = np.array(predictions.data.tolist())\n",
    "            real = np.array(batch.meanGrade.data.tolist())\n",
    "            myid = np.array(batch.id.data.tolist())\n",
    "            real_list = np.append(real_list, real)\n",
    "            pred_list = np.append(pred_list, pred)\n",
    "            id_list = np.append(id_list, myid)\n",
    "\n",
    "    \n",
    "# #     csv['pred_label'] = pred_list.round(0).astype(int)\n",
    "#     csv['pred'] = [Result_Dict[i] for i in csv['pred_label']]\n",
    "\n",
    "\n",
    "    df = pd.DataFrame({'id':id_list, 'real':real_list, 'pred':pred_list})\n",
    "    rmse = np.sqrt(np.mean((df['real'] - df['pred'])**2))\n",
    "            \n",
    "    print(rmse)\n",
    "    return df"
   ]
  },
  {
   "cell_type": "markdown",
   "metadata": {},
   "source": [
    "# 测试最后一次的model"
   ]
  },
  {
   "cell_type": "raw",
   "metadata": {
    "collapsed": true
   },
   "source": [
    "df = myMSE(model, train_iterator)"
   ]
  },
  {
   "cell_type": "raw",
   "metadata": {
    "collapsed": true
   },
   "source": [
    "df.sort_values(by=['real'])"
   ]
  },
  {
   "cell_type": "raw",
   "metadata": {
    "collapsed": true
   },
   "source": [
    "df = myMSE(model, valid_iterator)"
   ]
  },
  {
   "cell_type": "raw",
   "metadata": {
    "collapsed": true
   },
   "source": [
    "df.sort_values(by=['real'])"
   ]
  },
  {
   "cell_type": "markdown",
   "metadata": {},
   "source": [
    "# 测试 best的model"
   ]
  },
  {
   "cell_type": "code",
   "execution_count": 70,
   "metadata": {
    "collapsed": false
   },
   "outputs": [
    {
     "name": "stdout",
     "output_type": "stream",
     "text": [
      "0.4811077845940743\n"
     ]
    }
   ],
   "source": [
    "model.load_state_dict(torch.load(\"lstm-model.pth\"))\n",
    "df = myMSE(model, train_iterator)"
   ]
  },
  {
   "cell_type": "code",
   "execution_count": 71,
   "metadata": {
    "collapsed": false
   },
   "outputs": [
    {
     "data": {
      "text/html": [
       "<div>\n",
       "<style scoped>\n",
       "    .dataframe tbody tr th:only-of-type {\n",
       "        vertical-align: middle;\n",
       "    }\n",
       "\n",
       "    .dataframe tbody tr th {\n",
       "        vertical-align: top;\n",
       "    }\n",
       "\n",
       "    .dataframe thead th {\n",
       "        text-align: right;\n",
       "    }\n",
       "</style>\n",
       "<table border=\"1\" class=\"dataframe\">\n",
       "  <thead>\n",
       "    <tr style=\"text-align: right;\">\n",
       "      <th></th>\n",
       "      <th>id</th>\n",
       "      <th>real</th>\n",
       "      <th>pred</th>\n",
       "    </tr>\n",
       "  </thead>\n",
       "  <tbody>\n",
       "    <tr>\n",
       "      <th>6388</th>\n",
       "      <td>1617.0</td>\n",
       "      <td>0.0</td>\n",
       "      <td>1.049526</td>\n",
       "    </tr>\n",
       "    <tr>\n",
       "      <th>6259</th>\n",
       "      <td>8191.0</td>\n",
       "      <td>0.0</td>\n",
       "      <td>0.890024</td>\n",
       "    </tr>\n",
       "    <tr>\n",
       "      <th>3680</th>\n",
       "      <td>8804.0</td>\n",
       "      <td>0.0</td>\n",
       "      <td>1.234373</td>\n",
       "    </tr>\n",
       "    <tr>\n",
       "      <th>6267</th>\n",
       "      <td>12380.0</td>\n",
       "      <td>0.0</td>\n",
       "      <td>0.634069</td>\n",
       "    </tr>\n",
       "    <tr>\n",
       "      <th>3657</th>\n",
       "      <td>14836.0</td>\n",
       "      <td>0.0</td>\n",
       "      <td>0.789578</td>\n",
       "    </tr>\n",
       "    <tr>\n",
       "      <th>...</th>\n",
       "      <td>...</td>\n",
       "      <td>...</td>\n",
       "      <td>...</td>\n",
       "    </tr>\n",
       "    <tr>\n",
       "      <th>827</th>\n",
       "      <td>7594.0</td>\n",
       "      <td>2.8</td>\n",
       "      <td>1.367028</td>\n",
       "    </tr>\n",
       "    <tr>\n",
       "      <th>701</th>\n",
       "      <td>9933.0</td>\n",
       "      <td>2.8</td>\n",
       "      <td>1.557338</td>\n",
       "    </tr>\n",
       "    <tr>\n",
       "      <th>6036</th>\n",
       "      <td>590.0</td>\n",
       "      <td>2.8</td>\n",
       "      <td>1.505967</td>\n",
       "    </tr>\n",
       "    <tr>\n",
       "      <th>5406</th>\n",
       "      <td>1229.0</td>\n",
       "      <td>3.0</td>\n",
       "      <td>1.525018</td>\n",
       "    </tr>\n",
       "    <tr>\n",
       "      <th>7559</th>\n",
       "      <td>3404.0</td>\n",
       "      <td>3.0</td>\n",
       "      <td>1.516698</td>\n",
       "    </tr>\n",
       "  </tbody>\n",
       "</table>\n",
       "<p>7652 rows × 3 columns</p>\n",
       "</div>"
      ],
      "text/plain": [
       "           id  real      pred\n",
       "6388   1617.0   0.0  1.049526\n",
       "6259   8191.0   0.0  0.890024\n",
       "3680   8804.0   0.0  1.234373\n",
       "6267  12380.0   0.0  0.634069\n",
       "3657  14836.0   0.0  0.789578\n",
       "...       ...   ...       ...\n",
       "827    7594.0   2.8  1.367028\n",
       "701    9933.0   2.8  1.557338\n",
       "6036    590.0   2.8  1.505967\n",
       "5406   1229.0   3.0  1.525018\n",
       "7559   3404.0   3.0  1.516698\n",
       "\n",
       "[7652 rows x 3 columns]"
      ]
     },
     "execution_count": 71,
     "metadata": {},
     "output_type": "execute_result"
    }
   ],
   "source": [
    "df.sort_values(by=['real'])"
   ]
  },
  {
   "cell_type": "code",
   "execution_count": 72,
   "metadata": {
    "collapsed": false
   },
   "outputs": [
    {
     "name": "stdout",
     "output_type": "stream",
     "text": [
      "0.5627223148482773\n"
     ]
    }
   ],
   "source": [
    "df = myMSE(model, valid_iterator)"
   ]
  },
  {
   "cell_type": "code",
   "execution_count": 73,
   "metadata": {
    "collapsed": false
   },
   "outputs": [
    {
     "data": {
      "text/html": [
       "<div>\n",
       "<style scoped>\n",
       "    .dataframe tbody tr th:only-of-type {\n",
       "        vertical-align: middle;\n",
       "    }\n",
       "\n",
       "    .dataframe tbody tr th {\n",
       "        vertical-align: top;\n",
       "    }\n",
       "\n",
       "    .dataframe thead th {\n",
       "        text-align: right;\n",
       "    }\n",
       "</style>\n",
       "<table border=\"1\" class=\"dataframe\">\n",
       "  <thead>\n",
       "    <tr style=\"text-align: right;\">\n",
       "      <th></th>\n",
       "      <th>id</th>\n",
       "      <th>real</th>\n",
       "      <th>pred</th>\n",
       "    </tr>\n",
       "  </thead>\n",
       "  <tbody>\n",
       "    <tr>\n",
       "      <th>647</th>\n",
       "      <td>319.0</td>\n",
       "      <td>0.0</td>\n",
       "      <td>0.762673</td>\n",
       "    </tr>\n",
       "    <tr>\n",
       "      <th>168</th>\n",
       "      <td>3431.0</td>\n",
       "      <td>0.0</td>\n",
       "      <td>0.848087</td>\n",
       "    </tr>\n",
       "    <tr>\n",
       "      <th>469</th>\n",
       "      <td>8208.0</td>\n",
       "      <td>0.0</td>\n",
       "      <td>0.528504</td>\n",
       "    </tr>\n",
       "    <tr>\n",
       "      <th>461</th>\n",
       "      <td>12928.0</td>\n",
       "      <td>0.0</td>\n",
       "      <td>0.855344</td>\n",
       "    </tr>\n",
       "    <tr>\n",
       "      <th>439</th>\n",
       "      <td>14417.0</td>\n",
       "      <td>0.0</td>\n",
       "      <td>1.009588</td>\n",
       "    </tr>\n",
       "    <tr>\n",
       "      <th>...</th>\n",
       "      <td>...</td>\n",
       "      <td>...</td>\n",
       "      <td>...</td>\n",
       "    </tr>\n",
       "    <tr>\n",
       "      <th>712</th>\n",
       "      <td>4142.0</td>\n",
       "      <td>2.6</td>\n",
       "      <td>1.023752</td>\n",
       "    </tr>\n",
       "    <tr>\n",
       "      <th>334</th>\n",
       "      <td>7693.0</td>\n",
       "      <td>2.6</td>\n",
       "      <td>0.932958</td>\n",
       "    </tr>\n",
       "    <tr>\n",
       "      <th>531</th>\n",
       "      <td>736.0</td>\n",
       "      <td>2.6</td>\n",
       "      <td>0.628055</td>\n",
       "    </tr>\n",
       "    <tr>\n",
       "      <th>452</th>\n",
       "      <td>11170.0</td>\n",
       "      <td>2.8</td>\n",
       "      <td>1.443883</td>\n",
       "    </tr>\n",
       "    <tr>\n",
       "      <th>904</th>\n",
       "      <td>2409.0</td>\n",
       "      <td>2.8</td>\n",
       "      <td>1.389672</td>\n",
       "    </tr>\n",
       "  </tbody>\n",
       "</table>\n",
       "<p>1000 rows × 3 columns</p>\n",
       "</div>"
      ],
      "text/plain": [
       "          id  real      pred\n",
       "647    319.0   0.0  0.762673\n",
       "168   3431.0   0.0  0.848087\n",
       "469   8208.0   0.0  0.528504\n",
       "461  12928.0   0.0  0.855344\n",
       "439  14417.0   0.0  1.009588\n",
       "..       ...   ...       ...\n",
       "712   4142.0   2.6  1.023752\n",
       "334   7693.0   2.6  0.932958\n",
       "531    736.0   2.6  0.628055\n",
       "452  11170.0   2.8  1.443883\n",
       "904   2409.0   2.8  1.389672\n",
       "\n",
       "[1000 rows x 3 columns]"
      ]
     },
     "execution_count": 73,
     "metadata": {},
     "output_type": "execute_result"
    }
   ],
   "source": [
    "df.sort_values(by=['real'])"
   ]
  },
  {
   "cell_type": "code",
   "execution_count": 74,
   "metadata": {
    "collapsed": false
   },
   "outputs": [
    {
     "name": "stdout",
     "output_type": "stream",
     "text": [
      "0.5547148351001647\n"
     ]
    }
   ],
   "source": [
    "df = myMSE(model, test_iterator)"
   ]
  },
  {
   "cell_type": "code",
   "execution_count": 75,
   "metadata": {
    "collapsed": false
   },
   "outputs": [
    {
     "data": {
      "text/html": [
       "<div>\n",
       "<style scoped>\n",
       "    .dataframe tbody tr th:only-of-type {\n",
       "        vertical-align: middle;\n",
       "    }\n",
       "\n",
       "    .dataframe tbody tr th {\n",
       "        vertical-align: top;\n",
       "    }\n",
       "\n",
       "    .dataframe thead th {\n",
       "        text-align: right;\n",
       "    }\n",
       "</style>\n",
       "<table border=\"1\" class=\"dataframe\">\n",
       "  <thead>\n",
       "    <tr style=\"text-align: right;\">\n",
       "      <th></th>\n",
       "      <th>id</th>\n",
       "      <th>real</th>\n",
       "      <th>pred</th>\n",
       "    </tr>\n",
       "  </thead>\n",
       "  <tbody>\n",
       "    <tr>\n",
       "      <th>170</th>\n",
       "      <td>10487.0</td>\n",
       "      <td>0.8</td>\n",
       "      <td>0.430558</td>\n",
       "    </tr>\n",
       "    <tr>\n",
       "      <th>52</th>\n",
       "      <td>13583.0</td>\n",
       "      <td>1.0</td>\n",
       "      <td>0.479546</td>\n",
       "    </tr>\n",
       "    <tr>\n",
       "      <th>692</th>\n",
       "      <td>12113.0</td>\n",
       "      <td>0.2</td>\n",
       "      <td>0.487714</td>\n",
       "    </tr>\n",
       "    <tr>\n",
       "      <th>233</th>\n",
       "      <td>2442.0</td>\n",
       "      <td>0.8</td>\n",
       "      <td>0.492824</td>\n",
       "    </tr>\n",
       "    <tr>\n",
       "      <th>12</th>\n",
       "      <td>11709.0</td>\n",
       "      <td>0.6</td>\n",
       "      <td>0.500772</td>\n",
       "    </tr>\n",
       "    <tr>\n",
       "      <th>...</th>\n",
       "      <td>...</td>\n",
       "      <td>...</td>\n",
       "      <td>...</td>\n",
       "    </tr>\n",
       "    <tr>\n",
       "      <th>271</th>\n",
       "      <td>9342.0</td>\n",
       "      <td>2.0</td>\n",
       "      <td>1.581871</td>\n",
       "    </tr>\n",
       "    <tr>\n",
       "      <th>332</th>\n",
       "      <td>12784.0</td>\n",
       "      <td>1.2</td>\n",
       "      <td>1.601785</td>\n",
       "    </tr>\n",
       "    <tr>\n",
       "      <th>947</th>\n",
       "      <td>11492.0</td>\n",
       "      <td>1.0</td>\n",
       "      <td>1.605963</td>\n",
       "    </tr>\n",
       "    <tr>\n",
       "      <th>344</th>\n",
       "      <td>1812.0</td>\n",
       "      <td>1.0</td>\n",
       "      <td>1.652382</td>\n",
       "    </tr>\n",
       "    <tr>\n",
       "      <th>815</th>\n",
       "      <td>2682.0</td>\n",
       "      <td>2.0</td>\n",
       "      <td>1.656123</td>\n",
       "    </tr>\n",
       "  </tbody>\n",
       "</table>\n",
       "<p>1000 rows × 3 columns</p>\n",
       "</div>"
      ],
      "text/plain": [
       "          id  real      pred\n",
       "170  10487.0   0.8  0.430558\n",
       "52   13583.0   1.0  0.479546\n",
       "692  12113.0   0.2  0.487714\n",
       "233   2442.0   0.8  0.492824\n",
       "12   11709.0   0.6  0.500772\n",
       "..       ...   ...       ...\n",
       "271   9342.0   2.0  1.581871\n",
       "332  12784.0   1.2  1.601785\n",
       "947  11492.0   1.0  1.605963\n",
       "344   1812.0   1.0  1.652382\n",
       "815   2682.0   2.0  1.656123\n",
       "\n",
       "[1000 rows x 3 columns]"
      ]
     },
     "execution_count": 75,
     "metadata": {},
     "output_type": "execute_result"
    }
   ],
   "source": [
    "df.sort_values(by=['pred'])"
   ]
  },
  {
   "cell_type": "code",
   "execution_count": 78,
   "metadata": {
    "collapsed": true
   },
   "outputs": [],
   "source": [
    "def getFinal_Valid(model, iterator):\n",
    "    pred_list = np.array([])\n",
    "    id_list = np.array([])\n",
    "    \n",
    "    \n",
    "    model.eval()\n",
    "    with torch.no_grad():\n",
    "        for batch in iterator:\n",
    "            embeddings = get_elmo_embeddings(batch.new)\n",
    "            predictions = model(embeddings).squeeze(1)\n",
    "            pred = np.array(predictions.data.tolist())\n",
    "            myid = np.array(batch.id.data.tolist())\n",
    "            pred_list = np.append(pred_list, pred)\n",
    "            id_list = np.append(id_list, myid)\n",
    "\n",
    "    df = pd.DataFrame({'id':id_list,'pred':pred_list})\n",
    "            \n",
    "    return df"
   ]
  },
  {
   "cell_type": "code",
   "execution_count": 79,
   "metadata": {
    "collapsed": false
   },
   "outputs": [
    {
     "data": {
      "text/html": [
       "<div>\n",
       "<style scoped>\n",
       "    .dataframe tbody tr th:only-of-type {\n",
       "        vertical-align: middle;\n",
       "    }\n",
       "\n",
       "    .dataframe tbody tr th {\n",
       "        vertical-align: top;\n",
       "    }\n",
       "\n",
       "    .dataframe thead th {\n",
       "        text-align: right;\n",
       "    }\n",
       "</style>\n",
       "<table border=\"1\" class=\"dataframe\">\n",
       "  <thead>\n",
       "    <tr style=\"text-align: right;\">\n",
       "      <th></th>\n",
       "      <th>id</th>\n",
       "      <th>pred</th>\n",
       "    </tr>\n",
       "  </thead>\n",
       "  <tbody>\n",
       "    <tr>\n",
       "      <th>1605</th>\n",
       "      <td>4</td>\n",
       "      <td>1.059387</td>\n",
       "    </tr>\n",
       "    <tr>\n",
       "      <th>1134</th>\n",
       "      <td>13</td>\n",
       "      <td>0.930356</td>\n",
       "    </tr>\n",
       "    <tr>\n",
       "      <th>688</th>\n",
       "      <td>15</td>\n",
       "      <td>0.910926</td>\n",
       "    </tr>\n",
       "    <tr>\n",
       "      <th>2135</th>\n",
       "      <td>25</td>\n",
       "      <td>0.815300</td>\n",
       "    </tr>\n",
       "    <tr>\n",
       "      <th>561</th>\n",
       "      <td>30</td>\n",
       "      <td>0.768042</td>\n",
       "    </tr>\n",
       "    <tr>\n",
       "      <th>...</th>\n",
       "      <td>...</td>\n",
       "      <td>...</td>\n",
       "    </tr>\n",
       "    <tr>\n",
       "      <th>1708</th>\n",
       "      <td>15084</td>\n",
       "      <td>0.989453</td>\n",
       "    </tr>\n",
       "    <tr>\n",
       "      <th>122</th>\n",
       "      <td>15086</td>\n",
       "      <td>0.641545</td>\n",
       "    </tr>\n",
       "    <tr>\n",
       "      <th>486</th>\n",
       "      <td>15091</td>\n",
       "      <td>1.152520</td>\n",
       "    </tr>\n",
       "    <tr>\n",
       "      <th>1454</th>\n",
       "      <td>15093</td>\n",
       "      <td>0.708814</td>\n",
       "    </tr>\n",
       "    <tr>\n",
       "      <th>997</th>\n",
       "      <td>15094</td>\n",
       "      <td>0.904822</td>\n",
       "    </tr>\n",
       "  </tbody>\n",
       "</table>\n",
       "<p>2419 rows × 2 columns</p>\n",
       "</div>"
      ],
      "text/plain": [
       "         id      pred\n",
       "1605      4  1.059387\n",
       "1134     13  0.930356\n",
       "688      15  0.910926\n",
       "2135     25  0.815300\n",
       "561      30  0.768042\n",
       "...     ...       ...\n",
       "1708  15084  0.989453\n",
       "122   15086  0.641545\n",
       "486   15091  1.152520\n",
       "1454  15093  0.708814\n",
       "997   15094  0.904822\n",
       "\n",
       "[2419 rows x 2 columns]"
      ]
     },
     "execution_count": 79,
     "metadata": {},
     "output_type": "execute_result"
    }
   ],
   "source": [
    "df = getFinal_Valid(model, final_valid_iterator)\n",
    "df['id'] = df['id'].round(0).astype(int)\n",
    "df.sort_values(by=['id'])"
   ]
  },
  {
   "cell_type": "code",
   "execution_count": 80,
   "metadata": {
    "collapsed": false
   },
   "outputs": [
    {
     "data": {
      "text/html": [
       "<div>\n",
       "<style scoped>\n",
       "    .dataframe tbody tr th:only-of-type {\n",
       "        vertical-align: middle;\n",
       "    }\n",
       "\n",
       "    .dataframe tbody tr th {\n",
       "        vertical-align: top;\n",
       "    }\n",
       "\n",
       "    .dataframe thead th {\n",
       "        text-align: right;\n",
       "    }\n",
       "</style>\n",
       "<table border=\"1\" class=\"dataframe\">\n",
       "  <thead>\n",
       "    <tr style=\"text-align: right;\">\n",
       "      <th></th>\n",
       "      <th>id</th>\n",
       "      <th>pred</th>\n",
       "    </tr>\n",
       "  </thead>\n",
       "  <tbody>\n",
       "    <tr>\n",
       "      <th>1605</th>\n",
       "      <td>4</td>\n",
       "      <td>1.059387</td>\n",
       "    </tr>\n",
       "    <tr>\n",
       "      <th>1134</th>\n",
       "      <td>13</td>\n",
       "      <td>0.930356</td>\n",
       "    </tr>\n",
       "    <tr>\n",
       "      <th>688</th>\n",
       "      <td>15</td>\n",
       "      <td>0.910926</td>\n",
       "    </tr>\n",
       "    <tr>\n",
       "      <th>2135</th>\n",
       "      <td>25</td>\n",
       "      <td>0.815300</td>\n",
       "    </tr>\n",
       "    <tr>\n",
       "      <th>561</th>\n",
       "      <td>30</td>\n",
       "      <td>0.768042</td>\n",
       "    </tr>\n",
       "    <tr>\n",
       "      <th>...</th>\n",
       "      <td>...</td>\n",
       "      <td>...</td>\n",
       "    </tr>\n",
       "    <tr>\n",
       "      <th>1708</th>\n",
       "      <td>15084</td>\n",
       "      <td>0.989453</td>\n",
       "    </tr>\n",
       "    <tr>\n",
       "      <th>122</th>\n",
       "      <td>15086</td>\n",
       "      <td>0.641545</td>\n",
       "    </tr>\n",
       "    <tr>\n",
       "      <th>486</th>\n",
       "      <td>15091</td>\n",
       "      <td>1.152520</td>\n",
       "    </tr>\n",
       "    <tr>\n",
       "      <th>1454</th>\n",
       "      <td>15093</td>\n",
       "      <td>0.708814</td>\n",
       "    </tr>\n",
       "    <tr>\n",
       "      <th>997</th>\n",
       "      <td>15094</td>\n",
       "      <td>0.904822</td>\n",
       "    </tr>\n",
       "  </tbody>\n",
       "</table>\n",
       "<p>2419 rows × 2 columns</p>\n",
       "</div>"
      ],
      "text/plain": [
       "         id      pred\n",
       "1605      4  1.059387\n",
       "1134     13  0.930356\n",
       "688      15  0.910926\n",
       "2135     25  0.815300\n",
       "561      30  0.768042\n",
       "...     ...       ...\n",
       "1708  15084  0.989453\n",
       "122   15086  0.641545\n",
       "486   15091  1.152520\n",
       "1454  15093  0.708814\n",
       "997   15094  0.904822\n",
       "\n",
       "[2419 rows x 2 columns]"
      ]
     },
     "execution_count": 80,
     "metadata": {},
     "output_type": "execute_result"
    }
   ],
   "source": [
    "data = pd.merge(df,final_valid)\n",
    "data = data[['id','pred']] \n",
    "data.sort_values(by=['id'])"
   ]
  },
  {
   "cell_type": "code",
   "execution_count": 82,
   "metadata": {
    "collapsed": false
   },
   "outputs": [],
   "source": [
    "out_loc = 'save_outputs/task-1-output.csv'\n",
    "data.to_csv(out_loc, index=False)"
   ]
  },
  {
   "cell_type": "code",
   "execution_count": null,
   "metadata": {
    "collapsed": true
   },
   "outputs": [],
   "source": []
  }
 ],
 "metadata": {
  "kernelspec": {
   "display_name": "Python (pyt)",
   "language": "python",
   "name": "pyt"
  },
  "language_info": {
   "codemirror_mode": {
    "name": "ipython",
    "version": 3
   },
   "file_extension": ".py",
   "mimetype": "text/x-python",
   "name": "python",
   "nbconvert_exporter": "python",
   "pygments_lexer": "ipython3",
   "version": "3.7.6"
  }
 },
 "nbformat": 4,
 "nbformat_minor": 2
}
